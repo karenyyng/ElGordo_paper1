{
 "metadata": {
  "name": "",
  "signature": "sha256:666f2286cc1214106be224830bf3e4b7aa26ce624e44f0a546006297bfbd8809"
 },
 "nbformat": 3,
 "nbformat_minor": 0,
 "worksheets": [
  {
   "cells": [
    {
     "cell_type": "code",
     "collapsed": false,
     "input": [
      "from __future__ import division\n",
      "%autosave 60\n",
      "%load_ext nbtoc\n",
      "%nbtoc\n",
      "%matplotlib inline\n",
      "#%pdb\n",
      "from astropy import wcs\n",
      "import astropy.coordinates as coord\n",
      "import astropy.units as unit\n",
      "from astropy.coordinates import Angle\n",
      "import astropy.io.fits\n",
      "\n",
      "from astropy.cosmology import FlatLambdaCDM \n",
      "from astropy.coordinates import SkyCoord\n",
      "import inspect\n",
      "import numpy as np\n",
      "import IPython\n",
      "\n",
      "import time\n",
      "import numpy.random as rand\n",
      "import pandas as pd\n",
      "import sys\n",
      "tstart = time.time()\n",
      "#sys.path.append('/afs/sapphire.physics.ucdavis.edu/home/karenyng/Documents/Research_code/TSM')"
     ],
     "language": "python",
     "metadata": {},
     "outputs": [
      {
       "javascript": [
        "IPython.notebook.set_autosave_interval(60000)"
       ],
       "metadata": {},
       "output_type": "display_data"
      },
      {
       "output_type": "stream",
       "stream": "stdout",
       "text": [
        "Autosaving every 60 seconds\n",
        "The nbtoc extension is already loaded. To reload it, use:\n",
        "  %reload_ext nbtoc\n"
       ]
      },
      {
       "html": [
        "<!-- extracted from https://gist.github.com/magican/5574556 -->\n",
        "<div id=\"toc-wrapper\">\n",
        "    <div class=\"header\">Contents <a href=\"#\" class=\"hide-btn\">[hide]</a></div>\n",
        "    <div id=\"toc\"></div>\n",
        "</div>\n",
        " \n",
        "<style>\n",
        "  #toc {\n",
        "    overflow-y: scroll;\n",
        "    max-height: 300px;\n",
        "  }\n",
        "  #toc-wrapper {\n",
        "    position: fixed; top: 120px; max-width:430px; right: 20px;\n",
        "    border: thin solid rgba(0, 0, 0, 0.38); opacity: .8;\n",
        "    border-radius: 5px; background-color: #fff; padding:10px;\n",
        "    z-index: 100;\n",
        "  }\n",
        "  #toc-wrapper.closed {\n",
        "      min-width: 100px;\n",
        "      width: auto;\n",
        "      transition: width;\n",
        "  }\n",
        "  #toc-wrapper:hover{\n",
        "      opacity:1;\n",
        "  }\n",
        "  #toc-wrapper .header {\n",
        "      font-size:18px; font-weight: bold;\n",
        "  }\n",
        "  #toc-wrapper .hide-btn {\n",
        "      font-size: 14px;\n",
        "  }\n",
        " \n",
        "</style>\n",
        "\n",
        "<style>\n",
        "  ol.nested {\n",
        "    counter-reset: item;\n",
        "    list-style: none;\n",
        "  }\n",
        "  li.nested {\n",
        "        display: block;\n",
        "    }\n",
        "  li.nested:before {\n",
        "        counter-increment: item;\n",
        "        content: counters(item, \".\")\" \";\n",
        "    }\n",
        "</style>\n"
       ],
       "metadata": {},
       "output_type": "display_data"
      },
      {
       "javascript": [
        "// adapted from https://gist.github.com/magican/5574556\n",
        "\n",
        "function clone_anchor(element) {\n",
        "  // clone link\n",
        "  var h = element.find(\"div.text_cell_render\").find(':header').first();\n",
        "  var a = h.find('a').clone();\n",
        "  var new_a = $(\"<a>\");\n",
        "  new_a.attr(\"href\", a.attr(\"href\"));\n",
        "  // get the text *excluding* the link text, whatever it may be\n",
        "  var hclone = h.clone();\n",
        "  hclone.children().remove();\n",
        "  new_a.text(hclone.text());\n",
        "  return new_a;\n",
        "}\n",
        "\n",
        "function ol_depth(element) {\n",
        "  // get depth of nested ol\n",
        "  var d = 0;\n",
        "  while (element.prop(\"tagName\").toLowerCase() == 'ol') {\n",
        "    d += 1;\n",
        "    element = element.parent();\n",
        "  }\n",
        "  return d;\n",
        "}\n",
        "\n",
        "function table_of_contents(threshold) {\n",
        "  if (threshold === undefined) {\n",
        "    threshold = 4;\n",
        "  }\n",
        "  var cells = IPython.notebook.get_cells();\n",
        "  \n",
        "  var ol = $(\"<ol/>\");\n",
        "  $(\"#toc\").empty().append(ol);\n",
        "  \n",
        "  for (var i=0; i < cells.length; i++) {\n",
        "    var cell = cells[i];\n",
        "    \n",
        "    if (cell.cell_type !== 'heading') continue;\n",
        "    \n",
        "    var level = cell.level;\n",
        "    if (level > threshold) continue;\n",
        "    \n",
        "    var depth = ol_depth(ol);\n",
        "\n",
        "    // walk down levels\n",
        "    for (; depth < level; depth++) {\n",
        "      var new_ol = $(\"<ol/>\");\n",
        "      ol.append(new_ol);\n",
        "      ol = new_ol;\n",
        "    }\n",
        "    // walk up levels\n",
        "    for (; depth > level; depth--) {\n",
        "      ol = ol.parent();\n",
        "    }\n",
        "    //\n",
        "    ol.append(\n",
        "      $(\"<li/>\").append(clone_anchor(cell.element))\n",
        "    );\n",
        "  }\n",
        "\n",
        "  $('#toc-wrapper .header').click(function(){\n",
        "    $('#toc').slideToggle();\n",
        "    $('#toc-wrapper').toggleClass('closed');\n",
        "    if ($('#toc-wrapper').hasClass('closed')){\n",
        "      $('#toc-wrapper .hide-btn').text('[show]');\n",
        "    } else {\n",
        "      $('#toc-wrapper .hide-btn').text('[hide]');\n",
        "    }\n",
        "    return false;\n",
        "  })\n",
        "\n",
        "  $(window).resize(function(){\n",
        "    $('#toc').css({maxHeight: $(window).height() - 200})\n",
        "  })\n",
        "\n",
        "  $(window).trigger('resize')\n",
        "}\n",
        "\n",
        "table_of_contents();\n",
        "\n",
        "\n"
       ],
       "metadata": {},
       "output_type": "display_data"
      }
     ],
     "prompt_number": 6
    },
    {
     "cell_type": "code",
     "collapsed": false,
     "input": [
      "# home brewed modules \n",
      "#from wcs_ICRS import wcs_ICRS as WICRS\n",
      "sys.path.append(\"../multiDim_plot/\")\n",
      "reload(sys.modules[\"plotmod\"])\n",
      "from plotmod import * \n",
      "\n",
      "# Will brewed modules \n",
      "import cosmo\n",
      "from astrostats import biweightLoc, bcpcl"
     ],
     "language": "python",
     "metadata": {},
     "outputs": [],
     "prompt_number": 22
    },
    {
     "cell_type": "code",
     "collapsed": false,
     "input": [
      "print \"* numpy version {0}\".format(np.__version__)\n",
      "print \"* pandas version {0}\".format(pd.__version__)\n",
      "print \"* ipython version {0}\".format(IPython.__version__)\n",
      "print \"* astropy version {0}\".format(astropy.__version__)"
     ],
     "language": "python",
     "metadata": {},
     "outputs": [
      {
       "output_type": "stream",
       "stream": "stdout",
       "text": [
        "* numpy version 1.8.1\n",
        "* pandas version 0.14.1\n",
        "* ipython version 2.1.0\n",
        "* astropy version 0.4\n"
       ]
      }
     ],
     "prompt_number": 7
    },
    {
     "cell_type": "markdown",
     "metadata": {},
     "source": [
      "* numpy version 1.8.0\n",
      "* pandas version 0.13.1\n",
      "* ipython version 2.0.0-dev\n",
      "* astropy version 0.3"
     ]
    },
    {
     "cell_type": "heading",
     "level": 1,
     "metadata": {},
     "source": [
      "Load in data"
     ]
    },
    {
     "cell_type": "code",
     "collapsed": false,
     "input": [
      "#---initializations-------------------------------------------------------------\n",
      "data_path = \"/Users/karenyng/Documents/Research/code\"+\\\n",
      "            \"/TSM/mercury_elGo/Feb_data/\"\n",
      "prefix = data_path + \"ElGordo_\"\n",
      "oprefix = data_path + \"polar_\"\n",
      "index = [str(i) for i in range(20)] \n",
      "\n",
      "NW_relic = SkyCoord('01h02m46s -49d14m43s', \n",
      "                unit=(unit.degree, unit.degree))\n",
      "SE_relic = SkyCoord('01h03m01s -49d17m14s', \n",
      "                unit=(unit.degree, unit.degree))\n",
      "#Histogram bins\n",
      "N_bins_2d = 130\n",
      "N_bins_1d = 200\n",
      "N_bins_TSM = 45 \n",
      "N_bins_alpha = 90\n",
      "\n",
      "#specify the number of iterations \n",
      "Iter = 500000\n",
      "#Iter = 475000\n",
      "par=['m_1',\n",
      "     'm_2',\n",
      "     'z_1',\n",
      "     'z_2',\n",
      "     'd_proj',\n",
      "     'v_rad_obs',\n",
      "     'alpha',\n",
      "     'v_3d_obs',\n",
      "     'd_3d',\n",
      "     'v_3d_col',\n",
      "     'd_max',\n",
      "     'TSM_0',\n",
      "     'TSM_1',\n",
      "     'T',\n",
      "     'prob']\n",
      "\n",
      "fitspath = \"../call_MCMAC/\"\n",
      "fits = fitspath + 'header.fits'\n",
      "#getwcs = SkyCoord('01h03m01s -49d17m14s', fitsname=fits)\n",
      "\n",
      "hdulist = astropy.io.fits.open(fits)\n",
      "prihdr = hdulist[0].header\n",
      "w = wcs.WCS(prihdr)"
     ],
     "language": "python",
     "metadata": {},
     "outputs": [],
     "prompt_number": 11
    },
    {
     "cell_type": "code",
     "collapsed": false,
     "input": [
      "out_prefix = \"TwoMnWBSG_\""
     ],
     "language": "python",
     "metadata": {},
     "outputs": [],
     "prompt_number": 30
    },
    {
     "cell_type": "code",
     "collapsed": false,
     "input": [
      "#data = load_pickles_to_df(par, prefix, index)\n",
      "#---initializations-------------------------------------------------------------\n",
      "data_path = \"../MCMAC_data/\"\n",
      "prefix = data_path + \"TwoMnWBSG_outputs.h5\"\n",
      "data = pd.read_hdf(prefix, \"df\")"
     ],
     "language": "python",
     "metadata": {},
     "outputs": [
      {
       "output_type": "stream",
       "stream": "stderr",
       "text": [
        "/opt/local/Library/Frameworks/Python.framework/Versions/2.7/lib/python2.7/site-packages/pandas/io/pytables.py:533: DeprecationWarning: openFile() is pending deprecation, use open_file() instead. You may use the pt2to3 tool to update your source code.\n",
        "  self._handle = tables.openFile(self._path, self._mode, **kwargs)\n",
        "/opt/local/Library/Frameworks/Python.framework/Versions/2.7/lib/python2.7/site-packages/pandas/io/pytables.py:1041: DeprecationWarning: getNode() is pending deprecation, use get_node() instead. You may use the pt2to3 tool to update your source code.\n",
        "  return self._handle.getNode(self.root, key)\n"
       ]
      }
     ],
     "prompt_number": 12
    },
    {
     "cell_type": "heading",
     "level": 1,
     "metadata": {},
     "source": [
      "Final data verification "
     ]
    },
    {
     "cell_type": "markdown",
     "metadata": {},
     "source": [
      "make sure that bad values are masked out, bad values include: \n",
      "\n",
      "* nans \n",
      "* infs \n",
      "\n",
      "Compute the age of the universe at z = 0.87 and mask values beyond that \n",
      "\n",
      "* T > age of the universe  \n",
      "* TSC1 > age of the universe \n",
      "* TSC2 > age of the universe \n"
     ]
    },
    {
     "cell_type": "code",
     "collapsed": false,
     "input": [
      "cosmo = FlatLambdaCDM(H0=70, Om0=0.3)\n",
      "age_of_universe = cosmo.age(0.87)\n",
      "age = age_of_universe.value\n",
      "\n",
      "mask1 = data[\"TSM_0\"] < age\n",
      "mask2 = data[\"TSM_1\"] < age \n",
      "mask3 = data[\"T\"] < age \n",
      "\n",
      "mask = np.logical_and(mask1, mask2)\n",
      "mask = np.logical_and(mask, mask3)\n",
      "print \"# of masked rows = {0}\".format(data.shape[0] - np.sum(mask))\n",
      "\n",
      "data = data[mask]\n",
      "print 'masked data has the following # of rows' + \\\n",
      "'= {0}'.format(data.shape[0])"
     ],
     "language": "python",
     "metadata": {},
     "outputs": [
      {
       "output_type": "stream",
       "stream": "stdout",
       "text": [
        "# of masked rows = 161602\n",
        "masked data has the following # of rows= 1838398"
       ]
      },
      {
       "output_type": "stream",
       "stream": "stdout",
       "text": [
        "\n"
       ]
      }
     ],
     "prompt_number": 13
    },
    {
     "cell_type": "heading",
     "level": 1,
     "metadata": {},
     "source": [
      "Make plots for different parameters   "
     ]
    },
    {
     "cell_type": "markdown",
     "metadata": {},
     "source": [
      "This can wait "
     ]
    },
    {
     "cell_type": "heading",
     "level": 1,
     "metadata": {},
     "source": [
      "Prepare different priors"
     ]
    },
    {
     "cell_type": "heading",
     "level": 3,
     "metadata": {},
     "source": [
      "Polarization prior with $\\alpha_0$ = a range of values "
     ]
    },
    {
     "cell_type": "markdown",
     "metadata": {},
     "source": [
      "test the sensitivity of the output parameters via the use of a bunch of different prior cutoffs"
     ]
    },
    {
     "cell_type": "code",
     "collapsed": false,
     "input": [
      "alpha_lower = 29 \n",
      "alpha_upper = 50 \n",
      "alpha_interval = 2.5\n",
      "alpha0 = np.arange(alpha_lower, alpha_upper, alpha_interval)\n",
      "\n",
      "for numAlpha in range(alpha0.size):\n",
      "    temp_mask = radio_polar_prior(data['alpha'], alpha_min = 0, \n",
      "                                           alpha_max = alpha0[numAlpha])\n",
      "    \n",
      "    # initialize a list of masks and a list of counts \n",
      "    if numAlpha == 0:\n",
      "        masks = [temp_mask]\n",
      "        #counts = [count]\n",
      "    else:\n",
      "        masks.append(temp_mask) \n",
      "        #counts.append(count)"
     ],
     "language": "python",
     "metadata": {},
     "outputs": [
      {
       "output_type": "stream",
       "stream": "stdout",
       "text": [
        "# of masked rows = 1074388\n",
        "# of remaining rows = 764010\n",
        "% of original data remaining = 41.56\n",
        "# of masked rows = 1010288"
       ]
      },
      {
       "output_type": "stream",
       "stream": "stdout",
       "text": [
        "\n",
        "# of remaining rows = 828110\n",
        "% of original data remaining = 45.05\n",
        "# of masked rows = 947850"
       ]
      },
      {
       "output_type": "stream",
       "stream": "stdout",
       "text": [
        "\n",
        "# of remaining rows = 890548\n",
        "% of original data remaining = 48.44\n",
        "# of masked rows = 887736"
       ]
      },
      {
       "output_type": "stream",
       "stream": "stdout",
       "text": [
        "\n",
        "# of remaining rows = 950662\n",
        "% of original data remaining = 51.71\n",
        "# of masked rows = 828619"
       ]
      },
      {
       "output_type": "stream",
       "stream": "stdout",
       "text": [
        "\n",
        "# of remaining rows = 1009779\n",
        "% of original data remaining = 54.93\n",
        "# of masked rows = 770957"
       ]
      },
      {
       "output_type": "stream",
       "stream": "stdout",
       "text": [
        "\n",
        "# of remaining rows = 1067441\n",
        "% of original data remaining = 58.06\n",
        "# of masked rows = 714619"
       ]
      },
      {
       "output_type": "stream",
       "stream": "stdout",
       "text": [
        "\n",
        "# of remaining rows = 1123779\n",
        "% of original data remaining = 61.13\n",
        "# of masked rows = 659073"
       ]
      },
      {
       "output_type": "stream",
       "stream": "stdout",
       "text": [
        "\n",
        "# of remaining rows = 1179325\n",
        "% of original data remaining = 64.15\n",
        "# of masked rows = 604864"
       ]
      },
      {
       "output_type": "stream",
       "stream": "stdout",
       "text": [
        "\n",
        "# of remaining rows = 1233534\n",
        "% of original data remaining = 67.10\n"
       ]
      }
     ],
     "prompt_number": 17
    },
    {
     "cell_type": "code",
     "collapsed": false,
     "input": [
      "par = data.columns.copy()\n",
      "# do not want to loop over the prob \n",
      "par = np.array(par[par != 'prob'])\n",
      "\n",
      "# restrict the range for computing the histograms ... \n",
      "# may be degenerate \n",
      "histran = {}\n",
      "for k in data.columns: \n",
      "    histran[k] = None\n",
      "prob = np.array(data['prob'][mask])"
     ],
     "language": "python",
     "metadata": {},
     "outputs": [],
     "prompt_number": 18
    },
    {
     "cell_type": "markdown",
     "metadata": {},
     "source": [
      "Should have used a pandas dataframe with multiindex to: \n",
      "\n",
      "* store all 13 parameters in a dataframe for given alpha value \n",
      "* use another index for a specific alpha value "
     ]
    },
    {
     "cell_type": "code",
     "collapsed": false,
     "input": [
      "i = 0 \n",
      "j = 0 \n",
      "temp = -99. * np.ones((1,5))\n",
      "colname = ['location', 'CI68low', 'CI68up', 'CI95low', 'CI95up']\n",
      "\n",
      "df_list = []\n",
      "for mask in masks:   \n",
      "    for key in par[par!='prob']:\n",
      "        \n",
      "        prefix = 'alpha_' + str(alpha0[i]) + '_' + key\n",
      "        title = r'$\\alpha $= ' + str(alpha0[i])\n",
      "        print key \n",
      "        \n",
      "        temp[0] = histplot1d_pdf(np.array(data[key][mask]), prefix, \n",
      "                                        prob=np.array(data['prob'][mask]),\n",
      "                                        N_bins=300, histrange=histran[key], \n",
      "                                        x_lim=None, y_lim=None, x_label=key, \n",
      "                                        y_label=r'P.D.F.', legend='best',\n",
      "                                        save=False, verbose=False)\n",
      "        temp[0] = temp[0].transpose()\n",
      "        \n",
      "        df = pd.DataFrame(temp, columns=colname, \n",
      "                          index=[np.array([str(alpha0[i])]),np.array([key])])\n",
      "        if j == 0:\n",
      "            # have to make sure that we copy the first dataframe or else the result\n",
      "            # would be wrong for the first key and first alpha \n",
      "            results = df.copy() \n",
      "            j = 1\n",
      "        else:\n",
      "            results = results.append(df)\n",
      "        \n",
      "    i += 1 "
     ],
     "language": "python",
     "metadata": {},
     "outputs": []
    },
    {
     "cell_type": "code",
     "collapsed": false,
     "input": [
      "results.to_hdf(out_prefix + \"_sens_analysis.h5\", \"df\")"
     ],
     "language": "python",
     "metadata": {},
     "outputs": [],
     "prompt_number": 31
    },
    {
     "cell_type": "code",
     "collapsed": false,
     "input": [
      "results.location.ix[(slice(None), 'm_1')]"
     ],
     "language": "python",
     "metadata": {},
     "outputs": [
      {
       "metadata": {},
       "output_type": "pyout",
       "prompt_number": 28,
       "text": [
        "29.0    13.519343\n",
        "31.5    13.518478\n",
        "34.0    13.518556\n",
        "36.5    13.518966\n",
        "39.0    13.518615\n",
        "41.5    13.517797\n",
        "44.0    13.517076\n",
        "46.5    13.516731\n",
        "49.0    13.516956\n",
        "Name: location, dtype: float64"
       ]
      }
     ],
     "prompt_number": 28
    },
    {
     "cell_type": "heading",
     "level": 2,
     "metadata": {},
     "source": [
      "This is the code that I want "
     ]
    },
    {
     "cell_type": "markdown",
     "metadata": {},
     "source": [
      ">results.ix['39.0', 'm_1']['location']"
     ]
    },
    {
     "cell_type": "markdown",
     "metadata": {},
     "source": [
      "for slicing a particular entry from the multiindex dataframe"
     ]
    },
    {
     "cell_type": "markdown",
     "metadata": {},
     "source": [
      ">results.location.ix[(slice(None), 'm_1')]"
     ]
    },
    {
     "cell_type": "markdown",
     "metadata": {},
     "source": [
      "And this is for slicing a particular column.\n",
      "\n",
      "All these slicing are much cleaner than using a dictionary"
     ]
    },
    {
     "cell_type": "code",
     "collapsed": false,
     "input": [
      "results.ix['39.0', :]['location']"
     ],
     "language": "python",
     "metadata": {},
     "outputs": [
      {
       "metadata": {},
       "output_type": "pyout",
       "prompt_number": 29,
       "text": [
        "m_1             13.518615\n",
        "m_2              7.612553\n",
        "z_1              0.868745\n",
        "z_2              0.870717\n",
        "d_proj           0.744402\n",
        "v_rad_obs      318.594461\n",
        "alpha           22.817457\n",
        "v_3d_obs       886.027889\n",
        "d_3d             0.816923\n",
        "v_3d_col      2383.240697\n",
        "d_max            0.942138\n",
        "TSM_0            0.472722\n",
        "TSM_1            0.906138\n",
        "T                1.386175\n",
        "indices      20010.459451\n",
        "Name: location, dtype: float64"
       ]
      }
     ],
     "prompt_number": 29
    },
    {
     "cell_type": "heading",
     "level": 2,
     "metadata": {},
     "source": [
      "Think about how to compare credible intervals ..."
     ]
    },
    {
     "cell_type": "markdown",
     "metadata": {},
     "source": [
      "\n",
      "\n",
      "want to compute \n",
      "* box plots to summarize the statistics, e.g. the location, 68% CI, 95% CI\n",
      "\n",
      "My guess is that as we tighten up the polarization constraint, \n",
      "e.g. go from $\\alpha = 49$ to $\\alpha = 29$, we should see the CI shrink \n",
      "and the tighter $\\alpha$ constraint will give a CI totally within \n",
      "the CI given by a more lenient $\\alpha$\n",
      "\n",
      "Once I have verified the above guess is true, then all I need to do is to summarize the percentage differences in the CI and the shift in the location "
     ]
    },
    {
     "cell_type": "heading",
     "level": 3,
     "metadata": {},
     "source": [
      "graphical summary by making box plots of the credible intervals and the locations "
     ]
    },
    {
     "cell_type": "code",
     "collapsed": false,
     "input": [
      "def boxplot(result, y, tick_label, key):\n",
      "    \"\"\" plot my version of boxplot \n",
      "    \n",
      "    Parameters\n",
      "    ------------\n",
      "    result = list of numbers of size 5 \n",
      "        denoting [location, CI68_lower, CI68_upper, CI95_lower, CI95_upper]\n",
      "    y = vertical location \n",
      "    tick_label = list of numbers \n",
      "        to be used as y_ticks\n",
      "    key = string \n",
      "        denotes the name of the variable on the x axis\n",
      "    \"\"\"\n",
      "    import matplotlib.pyplot as plt\n",
      "    CI68 = np.arange(result[1], result[2], 0.01)\n",
      "    CI95 = np.arange(result[3], result[4], 0.01)\n",
      "    plt.plot(CI95, y * np.ones(CI95.size), 'g-', label='95% CI')\n",
      "    plt.plot(CI68, y * np.ones(CI68.size), 'b-')\n",
      "    plt.plot(CI68[0], y, 'b|', markeredgewidth=2, label='68% CI')\n",
      "    plt.plot(CI68[-1], y, 'b|', markeredgewidth=2)\n",
      "    plt.plot(result[0], y, 'r|', markeredgewidth=2, label='location')\n",
      "    plt.yticks(tick_label)\n",
      "    plt.ylabel(r'$\\alpha_0$', size=16)\n",
      "    plt.xlabel(key, size=16)\n",
      "    \n",
      "    return"
     ],
     "language": "python",
     "metadata": {},
     "outputs": [],
     "prompt_number": 32
    },
    {
     "cell_type": "code",
     "collapsed": false,
     "input": [
      "tick_label = np.arange(alpha_lower - alpha_interval, \n",
      "                   alpha_upper + alpha_interval, alpha_interval)\n",
      "for key in par:\n",
      "    for alpha in alpha0:\n",
      "        boxplot(results.ix[str(alpha), key], alpha, tick_label, key)\n",
      "        plt.savefig(out_prefix + \"CI_\" + key + '.pdf', bbox_inches='tight')\n",
      "    plt.close()"
     ],
     "language": "python",
     "metadata": {},
     "outputs": [],
     "prompt_number": 45
    },
    {
     "cell_type": "markdown",
     "metadata": {},
     "source": [
      "    map(boxplot(results.ix[alpha, key], alpha, tick_label, key))\n",
      "    plt.savefig(out_prefix + \"CI_\" + key + '.pdf', bbox_inches='tight')"
     ]
    },
    {
     "cell_type": "markdown",
     "metadata": {},
     "source": [
      "Can uncomment the following to open all the saved pdf on a mac"
     ]
    },
    {
     "cell_type": "code",
     "collapsed": false,
     "input": [
      "#!open -a preview CI*.pdf"
     ],
     "language": "python",
     "metadata": {},
     "outputs": [],
     "prompt_number": 46
    },
    {
     "cell_type": "heading",
     "level": 3,
     "metadata": {},
     "source": [
      "compute percentage change summary "
     ]
    },
    {
     "cell_type": "markdown",
     "metadata": {},
     "source": [
      "find the index that corresponds to 39 degree first "
     ]
    },
    {
     "cell_type": "code",
     "collapsed": false,
     "input": [
      "mask = alpha0 == 39\n",
      "\n",
      "for i in range(mask.size):\n",
      "    if  mask[i] > 0:\n",
      "        a_index = i"
     ],
     "language": "python",
     "metadata": {},
     "outputs": [],
     "prompt_number": 47
    },
    {
     "cell_type": "markdown",
     "metadata": {},
     "source": [
      "Try computing the difference with dataframe by dataframe, \n",
      "with each \"dataframe\" defined by the alpha index!"
     ]
    },
    {
     "cell_type": "markdown",
     "metadata": {},
     "source": [
      "We have to artificially make sure that the alpha index is not lost while appending the different dataframes."
     ]
    },
    {
     "cell_type": "code",
     "collapsed": false,
     "input": [
      "j = 0\n",
      "for i in range(alpha0.size):\n",
      "    if i != a_index: \n",
      "        index = str(alpha0[i])\n",
      "        if j == 0:\n",
      "            diff = \\\n",
      "            (results.ix[index] - results.ix['39.0']) * \\\n",
      "            100.0 / results.ix['39.0']\n",
      "            # add a column of index \n",
      "            index = alpha0[i] * np.ones(diff.shape[0]) \n",
      "            diff['alpha'] = index \n",
      "            \n",
      "            j = 1\n",
      "        else:\n",
      "            temp = \\\n",
      "            (results.ix[index] - results.ix['39.0']) * \\\n",
      "            100.0 / results.ix['39.0']\n",
      "            # add a column of index \n",
      "            index = alpha0[i] * np.ones(temp.shape[0]) \n",
      "            temp['alpha'] = index \n",
      "            \n",
      "            diff = diff.append(temp)\n",
      "            "
     ],
     "language": "python",
     "metadata": {},
     "outputs": [],
     "prompt_number": 48
    },
    {
     "cell_type": "markdown",
     "metadata": {},
     "source": [
      "Append alpha as a new index - very neat    \n",
      "I believe the below summary shows the percentage differences "
     ]
    },
    {
     "cell_type": "code",
     "collapsed": false,
     "input": [
      "diff.set_index('alpha', append=True)"
     ],
     "language": "python",
     "metadata": {},
     "outputs": [
      {
       "html": [
        "<div style=\"max-height:1000px;max-width:1500px;overflow:auto;\">\n",
        "<table border=\"1\" class=\"dataframe\">\n",
        "  <thead>\n",
        "    <tr style=\"text-align: right;\">\n",
        "      <th></th>\n",
        "      <th></th>\n",
        "      <th>location</th>\n",
        "      <th>CI68low</th>\n",
        "      <th>CI68up</th>\n",
        "      <th>CI95low</th>\n",
        "      <th>CI95up</th>\n",
        "    </tr>\n",
        "    <tr>\n",
        "      <th></th>\n",
        "      <th>alpha</th>\n",
        "      <th></th>\n",
        "      <th></th>\n",
        "      <th></th>\n",
        "      <th></th>\n",
        "      <th></th>\n",
        "    </tr>\n",
        "  </thead>\n",
        "  <tbody>\n",
        "    <tr>\n",
        "      <th>m_1</th>\n",
        "      <th>29.0</th>\n",
        "      <td>  0.005381</td>\n",
        "      <td>  0.000000</td>\n",
        "      <td>  0.000000</td>\n",
        "      <td>  0.000000</td>\n",
        "      <td>  0.000000</td>\n",
        "    </tr>\n",
        "    <tr>\n",
        "      <th>m_2</th>\n",
        "      <th>29.0</th>\n",
        "      <td>  0.027236</td>\n",
        "      <td>  0.000000</td>\n",
        "      <td>  0.000000</td>\n",
        "      <td>  0.000000</td>\n",
        "      <td>  0.000000</td>\n",
        "    </tr>\n",
        "    <tr>\n",
        "      <th>z_1</th>\n",
        "      <th>29.0</th>\n",
        "      <td>  0.009768</td>\n",
        "      <td>  0.010725</td>\n",
        "      <td>  0.010699</td>\n",
        "      <td>  0.014318</td>\n",
        "      <td>  0.010687</td>\n",
        "    </tr>\n",
        "    <tr>\n",
        "      <th>z_2</th>\n",
        "      <th>29.0</th>\n",
        "      <td> -0.011999</td>\n",
        "      <td> -0.007494</td>\n",
        "      <td> -0.011211</td>\n",
        "      <td> -0.003752</td>\n",
        "      <td> -0.011197</td>\n",
        "    </tr>\n",
        "    <tr>\n",
        "      <th>d_proj</th>\n",
        "      <th>29.0</th>\n",
        "      <td> -0.000360</td>\n",
        "      <td>  0.000000</td>\n",
        "      <td>  0.000000</td>\n",
        "      <td>  0.000000</td>\n",
        "      <td>  0.000000</td>\n",
        "    </tr>\n",
        "    <tr>\n",
        "      <th>v_rad_obs</th>\n",
        "      <th>29.0</th>\n",
        "      <td> -9.008021</td>\n",
        "      <td>-11.785834</td>\n",
        "      <td> -4.515773</td>\n",
        "      <td> -7.017345</td>\n",
        "      <td> -3.519772</td>\n",
        "    </tr>\n",
        "    <tr>\n",
        "      <th>alpha</th>\n",
        "      <th>29.0</th>\n",
        "      <td>-22.664966</td>\n",
        "      <td>-21.237332</td>\n",
        "      <td>-25.354186</td>\n",
        "      <td>-25.620529</td>\n",
        "      <td>-25.640972</td>\n",
        "    </tr>\n",
        "    <tr>\n",
        "      <th>v_3d_obs</th>\n",
        "      <th>29.0</th>\n",
        "      <td> 16.535503</td>\n",
        "      <td> 11.320709</td>\n",
        "      <td> 12.927746</td>\n",
        "      <td>  0.000000</td>\n",
        "      <td>  5.152222</td>\n",
        "    </tr>\n",
        "    <tr>\n",
        "      <th>d_3d</th>\n",
        "      <th>29.0</th>\n",
        "      <td> -3.840347</td>\n",
        "      <td> -1.127002</td>\n",
        "      <td> -9.108837</td>\n",
        "      <td> -0.446522</td>\n",
        "      <td>-10.721325</td>\n",
        "    </tr>\n",
        "    <tr>\n",
        "      <th>v_3d_col</th>\n",
        "      <th>29.0</th>\n",
        "      <td> -0.747292</td>\n",
        "      <td> -1.536710</td>\n",
        "      <td>  5.291065</td>\n",
        "      <td> -0.407670</td>\n",
        "      <td>  4.676389</td>\n",
        "    </tr>\n",
        "    <tr>\n",
        "      <th>d_max</th>\n",
        "      <th>29.0</th>\n",
        "      <td> -1.816023</td>\n",
        "      <td> -3.015130</td>\n",
        "      <td>  6.360504</td>\n",
        "      <td>  0.000000</td>\n",
        "      <td>  6.947421</td>\n",
        "    </tr>\n",
        "    <tr>\n",
        "      <th>TSM_0</th>\n",
        "      <th>29.0</th>\n",
        "      <td> -7.154055</td>\n",
        "      <td> -2.521877</td>\n",
        "      <td> -1.627848</td>\n",
        "      <td>  0.653081</td>\n",
        "      <td> -1.700664</td>\n",
        "    </tr>\n",
        "    <tr>\n",
        "      <th>TSM_1</th>\n",
        "      <th>29.0</th>\n",
        "      <td>  4.217428</td>\n",
        "      <td>  0.000000</td>\n",
        "      <td>  8.612711</td>\n",
        "      <td> -3.061430</td>\n",
        "      <td> 12.938234</td>\n",
        "    </tr>\n",
        "    <tr>\n",
        "      <th>T</th>\n",
        "      <th>29.0</th>\n",
        "      <td> -0.350516</td>\n",
        "      <td>  0.000000</td>\n",
        "      <td>  5.442524</td>\n",
        "      <td>  0.000000</td>\n",
        "      <td> 13.346271</td>\n",
        "    </tr>\n",
        "    <tr>\n",
        "      <th>indices</th>\n",
        "      <th>29.0</th>\n",
        "      <td> -0.107280</td>\n",
        "      <td>  0.000000</td>\n",
        "      <td>  0.000000</td>\n",
        "      <td>  0.000000</td>\n",
        "      <td>  0.000000</td>\n",
        "    </tr>\n",
        "    <tr>\n",
        "      <th>m_1</th>\n",
        "      <th>31.5</th>\n",
        "      <td> -0.001014</td>\n",
        "      <td>  0.000000</td>\n",
        "      <td>  0.000000</td>\n",
        "      <td>  0.387032</td>\n",
        "      <td>  0.000000</td>\n",
        "    </tr>\n",
        "    <tr>\n",
        "      <th>m_2</th>\n",
        "      <th>31.5</th>\n",
        "      <td>  0.016627</td>\n",
        "      <td>  0.000000</td>\n",
        "      <td>  0.000000</td>\n",
        "      <td>  0.000000</td>\n",
        "      <td>  0.000000</td>\n",
        "    </tr>\n",
        "    <tr>\n",
        "      <th>z_1</th>\n",
        "      <th>31.5</th>\n",
        "      <td>  0.006720</td>\n",
        "      <td>  0.007150</td>\n",
        "      <td>  0.007133</td>\n",
        "      <td>  0.010738</td>\n",
        "      <td>  0.007124</td>\n",
        "    </tr>\n",
        "    <tr>\n",
        "      <th>z_2</th>\n",
        "      <th>31.5</th>\n",
        "      <td> -0.008561</td>\n",
        "      <td> -0.003747</td>\n",
        "      <td> -0.007474</td>\n",
        "      <td> -0.003752</td>\n",
        "      <td> -0.007465</td>\n",
        "    </tr>\n",
        "    <tr>\n",
        "      <th>d_proj</th>\n",
        "      <th>31.5</th>\n",
        "      <td> -0.000008</td>\n",
        "      <td>  0.000000</td>\n",
        "      <td>  0.000000</td>\n",
        "      <td>  0.000000</td>\n",
        "      <td>  0.000000</td>\n",
        "    </tr>\n",
        "    <tr>\n",
        "      <th>v_rad_obs</th>\n",
        "      <th>31.5</th>\n",
        "      <td> -6.238094</td>\n",
        "      <td>-11.260710</td>\n",
        "      <td> -3.947370</td>\n",
        "      <td> -6.463850</td>\n",
        "      <td> -2.945440</td>\n",
        "    </tr>\n",
        "    <tr>\n",
        "      <th>alpha</th>\n",
        "      <th>31.5</th>\n",
        "      <td>-16.894687</td>\n",
        "      <td>-15.404625</td>\n",
        "      <td>-18.919251</td>\n",
        "      <td>-19.215339</td>\n",
        "      <td>-19.230672</td>\n",
        "    </tr>\n",
        "    <tr>\n",
        "      <th>v_3d_obs</th>\n",
        "      <th>31.5</th>\n",
        "      <td> 11.767506</td>\n",
        "      <td>  7.547139</td>\n",
        "      <td>  9.125468</td>\n",
        "      <td>  0.000000</td>\n",
        "      <td>  4.215455</td>\n",
        "    </tr>\n",
        "    <tr>\n",
        "      <th>d_3d</th>\n",
        "      <th>31.5</th>\n",
        "      <td> -2.980191</td>\n",
        "      <td> -0.872929</td>\n",
        "      <td> -7.281537</td>\n",
        "      <td> -0.381611</td>\n",
        "      <td> -8.519147</td>\n",
        "    </tr>\n",
        "    <tr>\n",
        "      <th>v_3d_col</th>\n",
        "      <th>31.5</th>\n",
        "      <td> -0.693519</td>\n",
        "      <td> -0.768355</td>\n",
        "      <td>  4.979826</td>\n",
        "      <td> -0.407670</td>\n",
        "      <td>  4.676389</td>\n",
        "    </tr>\n",
        "    <tr>\n",
        "      <th>d_max</th>\n",
        "      <th>31.5</th>\n",
        "      <td> -1.247366</td>\n",
        "      <td> -1.507565</td>\n",
        "      <td>  9.540757</td>\n",
        "      <td>  0.000000</td>\n",
        "      <td> 12.631674</td>\n",
        "    </tr>\n",
        "    <tr>\n",
        "      <th>TSM_0</th>\n",
        "      <th>31.5</th>\n",
        "      <td> -5.322931</td>\n",
        "      <td> -3.737680</td>\n",
        "      <td> -2.138829</td>\n",
        "      <td>  0.000000</td>\n",
        "      <td> -1.877773</td>\n",
        "    </tr>\n",
        "    <tr>\n",
        "      <th>TSM_1</th>\n",
        "      <th>31.5</th>\n",
        "      <td>  2.455890</td>\n",
        "      <td> -2.586353</td>\n",
        "      <td>  4.306355</td>\n",
        "      <td> -3.061430</td>\n",
        "      <td>  4.851838</td>\n",
        "    </tr>\n",
        "    <tr>\n",
        "      <th>T</th>\n",
        "      <th>31.5</th>\n",
        "      <td> -0.810500</td>\n",
        "      <td>  0.000000</td>\n",
        "      <td>  4.354019</td>\n",
        "      <td>  0.000000</td>\n",
        "      <td> 11.121892</td>\n",
        "    </tr>\n",
        "    <tr>\n",
        "      <th>indices</th>\n",
        "      <th>31.5</th>\n",
        "      <td> -0.124510</td>\n",
        "      <td>  0.000000</td>\n",
        "      <td>  0.000000</td>\n",
        "      <td>  0.000000</td>\n",
        "      <td>  0.000000</td>\n",
        "    </tr>\n",
        "    <tr>\n",
        "      <th>...</th>\n",
        "      <th>...</th>\n",
        "      <td>...</td>\n",
        "      <td>...</td>\n",
        "      <td>...</td>\n",
        "      <td>...</td>\n",
        "      <td>...</td>\n",
        "    </tr>\n",
        "    <tr>\n",
        "      <th>m_1</th>\n",
        "      <th>46.5</th>\n",
        "      <td> -0.013941</td>\n",
        "      <td>  0.000000</td>\n",
        "      <td>  0.000000</td>\n",
        "      <td>  0.387032</td>\n",
        "      <td>  0.241910</td>\n",
        "    </tr>\n",
        "    <tr>\n",
        "      <th>m_2</th>\n",
        "      <th>46.5</th>\n",
        "      <td> -0.011105</td>\n",
        "      <td>  0.000000</td>\n",
        "      <td>  0.000000</td>\n",
        "      <td>  0.000000</td>\n",
        "      <td>  0.000000</td>\n",
        "    </tr>\n",
        "    <tr>\n",
        "      <th>z_1</th>\n",
        "      <th>46.5</th>\n",
        "      <td> -0.004363</td>\n",
        "      <td> -0.003575</td>\n",
        "      <td> -0.003566</td>\n",
        "      <td> -0.003579</td>\n",
        "      <td>  0.000000</td>\n",
        "    </tr>\n",
        "    <tr>\n",
        "      <th>z_2</th>\n",
        "      <th>46.5</th>\n",
        "      <td>  0.005134</td>\n",
        "      <td>  0.011241</td>\n",
        "      <td>  0.007474</td>\n",
        "      <td>  0.007504</td>\n",
        "      <td>  0.011197</td>\n",
        "    </tr>\n",
        "    <tr>\n",
        "      <th>d_proj</th>\n",
        "      <th>46.5</th>\n",
        "      <td>  0.000274</td>\n",
        "      <td>  0.000000</td>\n",
        "      <td>  0.000000</td>\n",
        "      <td>  0.000000</td>\n",
        "      <td>  0.000000</td>\n",
        "    </tr>\n",
        "    <tr>\n",
        "      <th>v_rad_obs</th>\n",
        "      <th>46.5</th>\n",
        "      <td>  4.312950</td>\n",
        "      <td> 10.256373</td>\n",
        "      <td>  2.690581</td>\n",
        "      <td>  0.000000</td>\n",
        "      <td>  1.880877</td>\n",
        "    </tr>\n",
        "    <tr>\n",
        "      <th>alpha</th>\n",
        "      <th>46.5</th>\n",
        "      <td> 16.486036</td>\n",
        "      <td> 12.173757</td>\n",
        "      <td> 18.311691</td>\n",
        "      <td> 10.224641</td>\n",
        "      <td> 18.825920</td>\n",
        "    </tr>\n",
        "    <tr>\n",
        "      <th>v_3d_obs</th>\n",
        "      <th>46.5</th>\n",
        "      <td> -9.738666</td>\n",
        "      <td>-11.320709</td>\n",
        "      <td> -9.125468</td>\n",
        "      <td>-22.221695</td>\n",
        "      <td> -4.215455</td>\n",
        "    </tr>\n",
        "    <tr>\n",
        "      <th>d_3d</th>\n",
        "      <th>46.5</th>\n",
        "      <td>  3.679360</td>\n",
        "      <td>  0.889287</td>\n",
        "      <td>  9.813861</td>\n",
        "      <td>  0.191593</td>\n",
        "      <td> 12.382929</td>\n",
        "    </tr>\n",
        "    <tr>\n",
        "      <th>v_3d_col</th>\n",
        "      <th>46.5</th>\n",
        "      <td>  2.103878</td>\n",
        "      <td>  0.000000</td>\n",
        "      <td> -1.867435</td>\n",
        "      <td> -0.407670</td>\n",
        "      <td> -4.922515</td>\n",
        "    </tr>\n",
        "    <tr>\n",
        "      <th>d_max</th>\n",
        "      <th>46.5</th>\n",
        "      <td>  3.353963</td>\n",
        "      <td>  0.000000</td>\n",
        "      <td> -4.240336</td>\n",
        "      <td>  0.000000</td>\n",
        "      <td>-14.526425</td>\n",
        "    </tr>\n",
        "    <tr>\n",
        "      <th>TSM_0</th>\n",
        "      <th>46.5</th>\n",
        "      <td>  5.538224</td>\n",
        "      <td>  7.475360</td>\n",
        "      <td>  5.347072</td>\n",
        "      <td>  5.332036</td>\n",
        "      <td>  5.633320</td>\n",
        "    </tr>\n",
        "    <tr>\n",
        "      <th>TSM_1</th>\n",
        "      <th>46.5</th>\n",
        "      <td> -1.523690</td>\n",
        "      <td> -2.586353</td>\n",
        "      <td> -7.177259</td>\n",
        "      <td>  0.000000</td>\n",
        "      <td>-10.512315</td>\n",
        "    </tr>\n",
        "    <tr>\n",
        "      <th>T</th>\n",
        "      <th>46.5</th>\n",
        "      <td>  1.356700</td>\n",
        "      <td>  1.391418</td>\n",
        "      <td> -1.088505</td>\n",
        "      <td>  0.000000</td>\n",
        "      <td> -7.414595</td>\n",
        "    </tr>\n",
        "    <tr>\n",
        "      <th>indices</th>\n",
        "      <th>46.5</th>\n",
        "      <td> -0.002063</td>\n",
        "      <td>  0.000000</td>\n",
        "      <td>  0.000000</td>\n",
        "      <td>  0.000000</td>\n",
        "      <td>  0.000000</td>\n",
        "    </tr>\n",
        "    <tr>\n",
        "      <th>m_1</th>\n",
        "      <th>49.0</th>\n",
        "      <td> -0.012276</td>\n",
        "      <td>  0.000000</td>\n",
        "      <td>  0.000000</td>\n",
        "      <td>  0.000000</td>\n",
        "      <td>  0.241910</td>\n",
        "    </tr>\n",
        "    <tr>\n",
        "      <th>m_2</th>\n",
        "      <th>49.0</th>\n",
        "      <td> -0.015429</td>\n",
        "      <td>  0.000000</td>\n",
        "      <td>  0.000000</td>\n",
        "      <td>  0.000000</td>\n",
        "      <td>  0.000000</td>\n",
        "    </tr>\n",
        "    <tr>\n",
        "      <th>z_1</th>\n",
        "      <th>49.0</th>\n",
        "      <td> -0.006141</td>\n",
        "      <td> -0.003575</td>\n",
        "      <td>  0.000000</td>\n",
        "      <td> -0.003579</td>\n",
        "      <td>  0.003562</td>\n",
        "    </tr>\n",
        "    <tr>\n",
        "      <th>z_2</th>\n",
        "      <th>49.0</th>\n",
        "      <td>  0.006282</td>\n",
        "      <td>  0.007494</td>\n",
        "      <td>  0.007474</td>\n",
        "      <td>  0.003752</td>\n",
        "      <td>  0.011197</td>\n",
        "    </tr>\n",
        "    <tr>\n",
        "      <th>d_proj</th>\n",
        "      <th>49.0</th>\n",
        "      <td>  0.000362</td>\n",
        "      <td>  0.000000</td>\n",
        "      <td>  0.000000</td>\n",
        "      <td>  0.000000</td>\n",
        "      <td>  0.000000</td>\n",
        "    </tr>\n",
        "    <tr>\n",
        "      <th>v_rad_obs</th>\n",
        "      <th>49.0</th>\n",
        "      <td>  5.538793</td>\n",
        "      <td>  5.128186</td>\n",
        "      <td>  1.793721</td>\n",
        "      <td>  0.000000</td>\n",
        "      <td>  1.880877</td>\n",
        "    </tr>\n",
        "    <tr>\n",
        "      <th>alpha</th>\n",
        "      <th>49.0</th>\n",
        "      <td> 21.952898</td>\n",
        "      <td> 16.717068</td>\n",
        "      <td> 24.188380</td>\n",
        "      <td> 16.146412</td>\n",
        "      <td> 25.214445</td>\n",
        "    </tr>\n",
        "    <tr>\n",
        "      <th>v_3d_obs</th>\n",
        "      <th>49.0</th>\n",
        "      <td>-12.244302</td>\n",
        "      <td>-15.094279</td>\n",
        "      <td>-12.167291</td>\n",
        "      <td>-22.221695</td>\n",
        "      <td> -5.620606</td>\n",
        "    </tr>\n",
        "    <tr>\n",
        "      <th>d_3d</th>\n",
        "      <th>49.0</th>\n",
        "      <td>  5.019390</td>\n",
        "      <td>  1.298721</td>\n",
        "      <td> 13.833370</td>\n",
        "      <td>  0.139712</td>\n",
        "      <td> 17.717910</td>\n",
        "    </tr>\n",
        "    <tr>\n",
        "      <th>v_3d_col</th>\n",
        "      <th>49.0</th>\n",
        "      <td>  2.912830</td>\n",
        "      <td>  0.768355</td>\n",
        "      <td> -0.311239</td>\n",
        "      <td>  0.000000</td>\n",
        "      <td> -4.184138</td>\n",
        "    </tr>\n",
        "    <tr>\n",
        "      <th>d_max</th>\n",
        "      <th>49.0</th>\n",
        "      <td>  4.914548</td>\n",
        "      <td>  0.000000</td>\n",
        "      <td> -3.180252</td>\n",
        "      <td>  0.000000</td>\n",
        "      <td>-15.158009</td>\n",
        "    </tr>\n",
        "    <tr>\n",
        "      <th>TSM_0</th>\n",
        "      <th>49.0</th>\n",
        "      <td>  7.568335</td>\n",
        "      <td>  7.475360</td>\n",
        "      <td>  6.416486</td>\n",
        "      <td>  2.666018</td>\n",
        "      <td>  6.572207</td>\n",
        "    </tr>\n",
        "    <tr>\n",
        "      <th>TSM_1</th>\n",
        "      <th>49.0</th>\n",
        "      <td> -1.453904</td>\n",
        "      <td>  0.000000</td>\n",
        "      <td> -7.177259</td>\n",
        "      <td>  0.000000</td>\n",
        "      <td>-12.129595</td>\n",
        "    </tr>\n",
        "    <tr>\n",
        "      <th>T</th>\n",
        "      <th>49.0</th>\n",
        "      <td>  2.125519</td>\n",
        "      <td>  2.782836</td>\n",
        "      <td>  1.088505</td>\n",
        "      <td>  1.473424</td>\n",
        "      <td> -3.707297</td>\n",
        "    </tr>\n",
        "    <tr>\n",
        "      <th>indices</th>\n",
        "      <th>49.0</th>\n",
        "      <td> -0.004832</td>\n",
        "      <td>  0.000000</td>\n",
        "      <td>  0.000000</td>\n",
        "      <td>  0.000000</td>\n",
        "      <td>  0.000000</td>\n",
        "    </tr>\n",
        "  </tbody>\n",
        "</table>\n",
        "<p>120 rows \u00d7 5 columns</p>\n",
        "</div>"
       ],
       "metadata": {},
       "output_type": "pyout",
       "prompt_number": 49,
       "text": [
        "                  location    CI68low     CI68up    CI95low     CI95up\n",
        "          alpha                                                       \n",
        "m_1       29.0    0.005381   0.000000   0.000000   0.000000   0.000000\n",
        "m_2       29.0    0.027236   0.000000   0.000000   0.000000   0.000000\n",
        "z_1       29.0    0.009768   0.010725   0.010699   0.014318   0.010687\n",
        "z_2       29.0   -0.011999  -0.007494  -0.011211  -0.003752  -0.011197\n",
        "d_proj    29.0   -0.000360   0.000000   0.000000   0.000000   0.000000\n",
        "v_rad_obs 29.0   -9.008021 -11.785834  -4.515773  -7.017345  -3.519772\n",
        "alpha     29.0  -22.664966 -21.237332 -25.354186 -25.620529 -25.640972\n",
        "v_3d_obs  29.0   16.535503  11.320709  12.927746   0.000000   5.152222\n",
        "d_3d      29.0   -3.840347  -1.127002  -9.108837  -0.446522 -10.721325\n",
        "v_3d_col  29.0   -0.747292  -1.536710   5.291065  -0.407670   4.676389\n",
        "d_max     29.0   -1.816023  -3.015130   6.360504   0.000000   6.947421\n",
        "TSM_0     29.0   -7.154055  -2.521877  -1.627848   0.653081  -1.700664\n",
        "TSM_1     29.0    4.217428   0.000000   8.612711  -3.061430  12.938234\n",
        "T         29.0   -0.350516   0.000000   5.442524   0.000000  13.346271\n",
        "indices   29.0   -0.107280   0.000000   0.000000   0.000000   0.000000\n",
        "m_1       31.5   -0.001014   0.000000   0.000000   0.387032   0.000000\n",
        "m_2       31.5    0.016627   0.000000   0.000000   0.000000   0.000000\n",
        "z_1       31.5    0.006720   0.007150   0.007133   0.010738   0.007124\n",
        "z_2       31.5   -0.008561  -0.003747  -0.007474  -0.003752  -0.007465\n",
        "d_proj    31.5   -0.000008   0.000000   0.000000   0.000000   0.000000\n",
        "v_rad_obs 31.5   -6.238094 -11.260710  -3.947370  -6.463850  -2.945440\n",
        "alpha     31.5  -16.894687 -15.404625 -18.919251 -19.215339 -19.230672\n",
        "v_3d_obs  31.5   11.767506   7.547139   9.125468   0.000000   4.215455\n",
        "d_3d      31.5   -2.980191  -0.872929  -7.281537  -0.381611  -8.519147\n",
        "v_3d_col  31.5   -0.693519  -0.768355   4.979826  -0.407670   4.676389\n",
        "d_max     31.5   -1.247366  -1.507565   9.540757   0.000000  12.631674\n",
        "TSM_0     31.5   -5.322931  -3.737680  -2.138829   0.000000  -1.877773\n",
        "TSM_1     31.5    2.455890  -2.586353   4.306355  -3.061430   4.851838\n",
        "T         31.5   -0.810500   0.000000   4.354019   0.000000  11.121892\n",
        "indices   31.5   -0.124510   0.000000   0.000000   0.000000   0.000000\n",
        "...                    ...        ...        ...        ...        ...\n",
        "m_1       46.5   -0.013941   0.000000   0.000000   0.387032   0.241910\n",
        "m_2       46.5   -0.011105   0.000000   0.000000   0.000000   0.000000\n",
        "z_1       46.5   -0.004363  -0.003575  -0.003566  -0.003579   0.000000\n",
        "z_2       46.5    0.005134   0.011241   0.007474   0.007504   0.011197\n",
        "d_proj    46.5    0.000274   0.000000   0.000000   0.000000   0.000000\n",
        "v_rad_obs 46.5    4.312950  10.256373   2.690581   0.000000   1.880877\n",
        "alpha     46.5   16.486036  12.173757  18.311691  10.224641  18.825920\n",
        "v_3d_obs  46.5   -9.738666 -11.320709  -9.125468 -22.221695  -4.215455\n",
        "d_3d      46.5    3.679360   0.889287   9.813861   0.191593  12.382929\n",
        "v_3d_col  46.5    2.103878   0.000000  -1.867435  -0.407670  -4.922515\n",
        "d_max     46.5    3.353963   0.000000  -4.240336   0.000000 -14.526425\n",
        "TSM_0     46.5    5.538224   7.475360   5.347072   5.332036   5.633320\n",
        "TSM_1     46.5   -1.523690  -2.586353  -7.177259   0.000000 -10.512315\n",
        "T         46.5    1.356700   1.391418  -1.088505   0.000000  -7.414595\n",
        "indices   46.5   -0.002063   0.000000   0.000000   0.000000   0.000000\n",
        "m_1       49.0   -0.012276   0.000000   0.000000   0.000000   0.241910\n",
        "m_2       49.0   -0.015429   0.000000   0.000000   0.000000   0.000000\n",
        "z_1       49.0   -0.006141  -0.003575   0.000000  -0.003579   0.003562\n",
        "z_2       49.0    0.006282   0.007494   0.007474   0.003752   0.011197\n",
        "d_proj    49.0    0.000362   0.000000   0.000000   0.000000   0.000000\n",
        "v_rad_obs 49.0    5.538793   5.128186   1.793721   0.000000   1.880877\n",
        "alpha     49.0   21.952898  16.717068  24.188380  16.146412  25.214445\n",
        "v_3d_obs  49.0  -12.244302 -15.094279 -12.167291 -22.221695  -5.620606\n",
        "d_3d      49.0    5.019390   1.298721  13.833370   0.139712  17.717910\n",
        "v_3d_col  49.0    2.912830   0.768355  -0.311239   0.000000  -4.184138\n",
        "d_max     49.0    4.914548   0.000000  -3.180252   0.000000 -15.158009\n",
        "TSM_0     49.0    7.568335   7.475360   6.416486   2.666018   6.572207\n",
        "TSM_1     49.0   -1.453904   0.000000  -7.177259   0.000000 -12.129595\n",
        "T         49.0    2.125519   2.782836   1.088505   1.473424  -3.707297\n",
        "indices   49.0   -0.004832   0.000000   0.000000   0.000000   0.000000\n",
        "\n",
        "[120 rows x 5 columns]"
       ]
      }
     ],
     "prompt_number": 49
    },
    {
     "cell_type": "markdown",
     "metadata": {},
     "source": [
      "Most extreme percent differences in terms of location are: "
     ]
    },
    {
     "cell_type": "markdown",
     "metadata": {},
     "source": [
      "We do not want to find max or min based on the difference of alpha values so we drop them :"
     ]
    },
    {
     "cell_type": "code",
     "collapsed": false,
     "input": [
      "diff = diff.drop(diff.ix['alpha'].index)"
     ],
     "language": "python",
     "metadata": {},
     "outputs": [],
     "prompt_number": 50
    },
    {
     "cell_type": "markdown",
     "metadata": {},
     "source": [
      "Now we are in business"
     ]
    },
    {
     "cell_type": "code",
     "collapsed": false,
     "input": [
      "diff.ix[:]['location'].max()"
     ],
     "language": "python",
     "metadata": {},
     "outputs": [
      {
       "metadata": {},
       "output_type": "pyout",
       "prompt_number": 51,
       "text": [
        "16.535502788846959"
       ]
      }
     ],
     "prompt_number": 51
    },
    {
     "cell_type": "code",
     "collapsed": false,
     "input": [
      "max_label = diff.ix[:]['location'].argmax()"
     ],
     "language": "python",
     "metadata": {},
     "outputs": [],
     "prompt_number": 52
    },
    {
     "cell_type": "code",
     "collapsed": false,
     "input": [
      "diff.ix[max_label]['location']"
     ],
     "language": "python",
     "metadata": {},
     "outputs": [
      {
       "metadata": {},
       "output_type": "pyout",
       "prompt_number": 53,
       "text": [
        "v_3d_obs    16.535503\n",
        "v_3d_obs    11.767506\n",
        "v_3d_obs     7.572206\n",
        "v_3d_obs     3.495443\n",
        "v_3d_obs    -3.630822\n",
        "v_3d_obs    -6.772330\n",
        "v_3d_obs    -9.738666\n",
        "v_3d_obs   -12.244302\n",
        "Name: location, dtype: float64"
       ]
      }
     ],
     "prompt_number": 53
    },
    {
     "cell_type": "code",
     "collapsed": false,
     "input": [
      "alpha0"
     ],
     "language": "python",
     "metadata": {},
     "outputs": [
      {
       "metadata": {},
       "output_type": "pyout",
       "prompt_number": 54,
       "text": [
        "array([ 29. ,  31.5,  34. ,  36.5,  39. ,  41.5,  44. ,  46.5,  49. ])"
       ]
      }
     ],
     "prompt_number": 54
    },
    {
     "cell_type": "code",
     "collapsed": false,
     "input": [
      "diff.ix[:]['location'].min()"
     ],
     "language": "python",
     "metadata": {},
     "outputs": [
      {
       "metadata": {},
       "output_type": "pyout",
       "prompt_number": 55,
       "text": [
        "-12.244301529370205"
       ]
      }
     ],
     "prompt_number": 55
    },
    {
     "cell_type": "code",
     "collapsed": false,
     "input": [
      "min_label = diff.ix[:]['location'].argmin()"
     ],
     "language": "python",
     "metadata": {},
     "outputs": [],
     "prompt_number": 56
    },
    {
     "cell_type": "code",
     "collapsed": false,
     "input": [
      "diff.ix[min_label]['location']"
     ],
     "language": "python",
     "metadata": {},
     "outputs": [
      {
       "metadata": {},
       "output_type": "pyout",
       "prompt_number": 57,
       "text": [
        "v_3d_obs    16.535503\n",
        "v_3d_obs    11.767506\n",
        "v_3d_obs     7.572206\n",
        "v_3d_obs     3.495443\n",
        "v_3d_obs    -3.630822\n",
        "v_3d_obs    -6.772330\n",
        "v_3d_obs    -9.738666\n",
        "v_3d_obs   -12.244302\n",
        "Name: location, dtype: float64"
       ]
      }
     ],
     "prompt_number": 57
    },
    {
     "cell_type": "code",
     "collapsed": false,
     "input": [
      "35 - 29 "
     ],
     "language": "python",
     "metadata": {},
     "outputs": [
      {
       "metadata": {},
       "output_type": "pyout",
       "prompt_number": 58,
       "text": [
        "6"
       ]
      }
     ],
     "prompt_number": 58
    },
    {
     "cell_type": "code",
     "collapsed": false,
     "input": [],
     "language": "python",
     "metadata": {},
     "outputs": []
    },
    {
     "cell_type": "code",
     "collapsed": false,
     "input": [],
     "language": "python",
     "metadata": {},
     "outputs": []
    },
    {
     "cell_type": "markdown",
     "metadata": {},
     "source": [
      "So v_3d_obs really has the greatest varying location among all the other variables, which is consistent with the plots that we see "
     ]
    },
    {
     "cell_type": "markdown",
     "metadata": {},
     "source": [
      "Plot the percentage differences ? "
     ]
    },
    {
     "cell_type": "code",
     "collapsed": false,
     "input": [
      "diff.ix['d_3d']"
     ],
     "language": "python",
     "metadata": {},
     "outputs": [
      {
       "html": [
        "<div style=\"max-height:1000px;max-width:1500px;overflow:auto;\">\n",
        "<table border=\"1\" class=\"dataframe\">\n",
        "  <thead>\n",
        "    <tr style=\"text-align: right;\">\n",
        "      <th></th>\n",
        "      <th>location</th>\n",
        "      <th>CI68low</th>\n",
        "      <th>CI68up</th>\n",
        "      <th>CI95low</th>\n",
        "      <th>CI95up</th>\n",
        "      <th>alpha</th>\n",
        "    </tr>\n",
        "  </thead>\n",
        "  <tbody>\n",
        "    <tr>\n",
        "      <th>d_3d</th>\n",
        "      <td>-3.840347</td>\n",
        "      <td>-1.127002</td>\n",
        "      <td> -9.108837</td>\n",
        "      <td>-0.446522</td>\n",
        "      <td>-10.721325</td>\n",
        "      <td> 29.0</td>\n",
        "    </tr>\n",
        "    <tr>\n",
        "      <th>d_3d</th>\n",
        "      <td>-2.980191</td>\n",
        "      <td>-0.872929</td>\n",
        "      <td> -7.281537</td>\n",
        "      <td>-0.381611</td>\n",
        "      <td> -8.519147</td>\n",
        "      <td> 31.5</td>\n",
        "    </tr>\n",
        "    <tr>\n",
        "      <th>d_3d</th>\n",
        "      <td>-2.050242</td>\n",
        "      <td>-0.625628</td>\n",
        "      <td> -5.142588</td>\n",
        "      <td>-0.218543</td>\n",
        "      <td> -6.046711</td>\n",
        "      <td> 34.0</td>\n",
        "    </tr>\n",
        "    <tr>\n",
        "      <th>d_3d</th>\n",
        "      <td>-1.082922</td>\n",
        "      <td>-0.301054</td>\n",
        "      <td> -2.771614</td>\n",
        "      <td>-0.176057</td>\n",
        "      <td> -3.204480</td>\n",
        "      <td> 36.5</td>\n",
        "    </tr>\n",
        "    <tr>\n",
        "      <th>d_3d</th>\n",
        "      <td> 1.118875</td>\n",
        "      <td> 0.351768</td>\n",
        "      <td>  2.800446</td>\n",
        "      <td>-0.015655</td>\n",
        "      <td>  3.608261</td>\n",
        "      <td> 41.5</td>\n",
        "    </tr>\n",
        "    <tr>\n",
        "      <th>d_3d</th>\n",
        "      <td> 2.324681</td>\n",
        "      <td> 0.567169</td>\n",
        "      <td>  6.169735</td>\n",
        "      <td> 0.141853</td>\n",
        "      <td>  7.716931</td>\n",
        "      <td> 44.0</td>\n",
        "    </tr>\n",
        "    <tr>\n",
        "      <th>d_3d</th>\n",
        "      <td> 3.679360</td>\n",
        "      <td> 0.889287</td>\n",
        "      <td>  9.813861</td>\n",
        "      <td> 0.191593</td>\n",
        "      <td> 12.382929</td>\n",
        "      <td> 46.5</td>\n",
        "    </tr>\n",
        "    <tr>\n",
        "      <th>d_3d</th>\n",
        "      <td> 5.019390</td>\n",
        "      <td> 1.298721</td>\n",
        "      <td> 13.833370</td>\n",
        "      <td> 0.139712</td>\n",
        "      <td> 17.717910</td>\n",
        "      <td> 49.0</td>\n",
        "    </tr>\n",
        "  </tbody>\n",
        "</table>\n",
        "</div>"
       ],
       "metadata": {},
       "output_type": "pyout",
       "prompt_number": 59,
       "text": [
        "      location   CI68low     CI68up   CI95low     CI95up  alpha\n",
        "d_3d -3.840347 -1.127002  -9.108837 -0.446522 -10.721325   29.0\n",
        "d_3d -2.980191 -0.872929  -7.281537 -0.381611  -8.519147   31.5\n",
        "d_3d -2.050242 -0.625628  -5.142588 -0.218543  -6.046711   34.0\n",
        "d_3d -1.082922 -0.301054  -2.771614 -0.176057  -3.204480   36.5\n",
        "d_3d  1.118875  0.351768   2.800446 -0.015655   3.608261   41.5\n",
        "d_3d  2.324681  0.567169   6.169735  0.141853   7.716931   44.0\n",
        "d_3d  3.679360  0.889287   9.813861  0.191593  12.382929   46.5\n",
        "d_3d  5.019390  1.298721  13.833370  0.139712  17.717910   49.0"
       ]
      }
     ],
     "prompt_number": 59
    },
    {
     "cell_type": "code",
     "collapsed": false,
     "input": [],
     "language": "python",
     "metadata": {},
     "outputs": []
    }
   ],
   "metadata": {}
  }
 ]
}