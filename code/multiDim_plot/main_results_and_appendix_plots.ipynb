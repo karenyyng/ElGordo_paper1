{
 "metadata": {
  "name": "",
  "signature": "sha256:e759b1314c8ef512920ca52357ab85d9466fc4db49a322519db3e160ad966a1f"
 },
 "nbformat": 3,
 "nbformat_minor": 0,
 "worksheets": [
  {
   "cells": [
    {
     "cell_type": "markdown",
     "metadata": {},
     "source": [
      "\n",
      "This program takes the output pickle arrays of TSM.py and creates some plots and\n",
      "statistics.  It is largely based on plotTSM.py\n",
      "\n",
      "The main function of this program is to generate report quality plots,\n",
      "especially a covariance array plot\n"
     ]
    },
    {
     "cell_type": "code",
     "collapsed": false,
     "input": [
      "%autoreload 2\n",
      "%matplotlib inline"
     ],
     "language": "python",
     "metadata": {},
     "outputs": [],
     "prompt_number": 3
    },
    {
     "cell_type": "code",
     "collapsed": false,
     "input": [
      "from __future__ import division\n",
      "import numpy\n",
      "import cosmo\n",
      "import time\n",
      "import pdb\n",
      "import pandas as pd\n",
      "import sys\n",
      "import h5py\n",
      "from astroML import density_estimation as de\n",
      "from astroML.plotting import hist\n",
      "from scipy.stats import norm"
     ],
     "language": "python",
     "metadata": {},
     "outputs": [],
     "prompt_number": 4
    },
    {
     "cell_type": "markdown",
     "metadata": {},
     "source": [
      "Specify all the input variables"
     ]
    },
    {
     "cell_type": "code",
     "collapsed": false,
     "input": [
      "#from plotmod_08ef9a import *\n",
      "from plotmod import *"
     ],
     "language": "python",
     "metadata": {},
     "outputs": [],
     "prompt_number": 73
    },
    {
     "cell_type": "heading",
     "level": 2,
     "metadata": {},
     "source": [
      "Initialize some input variables"
     ]
    },
    {
     "cell_type": "code",
     "collapsed": false,
     "input": [
      "texpath = !echo ${paper1}texfiles/graphics/\n",
      "texpath = texpath[0]"
     ],
     "language": "python",
     "metadata": {},
     "outputs": [],
     "prompt_number": 7
    },
    {
     "cell_type": "code",
     "collapsed": false,
     "input": [
      "rescode = !echo ${RESCODE}\n",
      "path = rescode[0] + \"/ElGordo_analysis/elgordo_analysis_code/\" \n",
      "data_path = path + \"MCMAC_data/\" \n",
      "inputs_path = path + \"MCMAC_data/TwoMnWBSG_inputs.h5\"\n",
      "h5path = data_path + \"TwoMnWBSG_outputs.h5\"\n",
      "#prefix = data_path + \"EGTwoMil_\"\n",
      "#oprefix = 'polar_'\n",
      "#index = [str(i) for i in range(20)]\n",
      "\n",
      "# Histogram bins\n",
      "# adjust these smoothing kernel if the diagrams look weird \n",
      "\n",
      "N_bins_1d =  'knuth' # 200\n",
      "N_bins_TSM = 45\n",
      "N_bins_alpha = 90\n",
      "\n",
      "#specify the number of iterations\n",
      "#Iter = int(2e6)\n",
      "par=np.array(\n",
      "     ['m_1',\n",
      "     'm_2',\n",
      "     'z_1',\n",
      "     'z_2',\n",
      "     'd_proj',\n",
      "     'v_rad_obs',\n",
      "     'alpha',\n",
      "     'v_3d_obs',\n",
      "     'd_3d',\n",
      "     'v_3d_col',\n",
      "     'd_max',\n",
      "     'TSM_0',\n",
      "     'TSM_1',\n",
      "     'T',\n",
      "     \"indices\"])\n",
      "add_par = list(par) + ['prob']\n",
      "short_prefix = \"TwoMnWBSG_\"\n",
      "out_prefix = texpath + short_prefix\n",
      "nbins_2D = 70"
     ],
     "language": "python",
     "metadata": {},
     "outputs": [],
     "prompt_number": 8
    },
    {
     "cell_type": "code",
     "collapsed": false,
     "input": [
      "#%time data = load_pickles_to_df(add_par, prefix, index)  # this takes ~15 s "
     ],
     "language": "python",
     "metadata": {},
     "outputs": [],
     "prompt_number": 9
    },
    {
     "cell_type": "heading",
     "level": 1,
     "metadata": {},
     "source": [
      "read in data as h5 files "
     ]
    },
    {
     "cell_type": "code",
     "collapsed": false,
     "input": [
      "%time data = pd.read_hdf(h5path, key=\"df\")"
     ],
     "language": "python",
     "metadata": {},
     "outputs": [
      {
       "output_type": "stream",
       "stream": "stdout",
       "text": [
        "CPU times: user 603 ms, sys: 321 ms, total: 923 ms\n",
        "Wall time: 1.17 s\n"
       ]
      },
      {
       "output_type": "stream",
       "stream": "stderr",
       "text": [
        "/Users/karenyng/Documents/Research/code/ElGordo_analysis/elgordo_analysis_code/ELGOENV/lib/python2.7/site-packages/pandas/io/pytables.py:533: DeprecationWarning: openFile() is pending deprecation, use open_file() instead. You may use the pt2to3 tool to update your source code.\n",
        "  self._handle = tables.openFile(self._path, self._mode, **kwargs)\n",
        "/Users/karenyng/Documents/Research/code/ElGordo_analysis/elgordo_analysis_code/ELGOENV/lib/python2.7/site-packages/pandas/io/pytables.py:1041: DeprecationWarning: getNode() is pending deprecation, use get_node() instead. You may use the pt2to3 tool to update your source code.\n",
        "  return self._handle.getNode(self.root, key)\n"
       ]
      }
     ],
     "prompt_number": 10
    },
    {
     "cell_type": "code",
     "collapsed": false,
     "input": [
      "#data[\"indices\"].max()"
     ],
     "language": "python",
     "metadata": {},
     "outputs": [],
     "prompt_number": 11
    },
    {
     "cell_type": "heading",
     "level": 1,
     "metadata": {},
     "source": [
      "make masks for times > age of universe"
     ]
    },
    {
     "cell_type": "code",
     "collapsed": false,
     "input": [
      "#%psource mask_bigger_than_age_of_universe"
     ],
     "language": "python",
     "metadata": {},
     "outputs": [],
     "prompt_number": 12
    },
    {
     "cell_type": "code",
     "collapsed": false,
     "input": [
      "z = 0.87 \n",
      "H0 = 70\n",
      "Om0 = 0.3 \n",
      "T = \"T\"\n",
      "TSM_0 = \"TSM_0\"\n",
      "TSM_1 = \"TSM_1\"\n",
      "alpha_max=35\n",
      "mask, mask_TSM1, age = \\\n",
      "    mask_bigger_than_age_of_universe(\n",
      "        data, z=z, H0=H0, Om0=Om0, T=T, TSM_0=TSM_0, TSM_1=TSM_1)"
     ],
     "language": "python",
     "metadata": {},
     "outputs": [
      {
       "output_type": "stream",
       "stream": "stdout",
       "text": [
        "# of masked rows = 66\n",
        "# of remaining rows = 1999934\n",
        "% of original data remaining = 100.00"
       ]
      },
      {
       "output_type": "stream",
       "stream": "stdout",
       "text": [
        "\n"
       ]
      }
     ],
     "prompt_number": 13
    },
    {
     "cell_type": "code",
     "collapsed": false,
     "input": [
      "masks = {}\n",
      "masks[\"t\"] = np.copy(mask)\n"
     ],
     "language": "python",
     "metadata": {},
     "outputs": [],
     "prompt_number": 14
    },
    {
     "cell_type": "code",
     "collapsed": false,
     "input": [
      "masks[\"t\"] = np.logical_and(masks[\"t\"], mask_TSM1)\n",
      "np.sum(masks[\"t\"]) / 2.e6"
     ],
     "language": "python",
     "metadata": {},
     "outputs": [
      {
       "metadata": {},
       "output_type": "pyout",
       "prompt_number": 15,
       "text": [
        "0.94715450000000001"
       ]
      }
     ],
     "prompt_number": 15
    },
    {
     "cell_type": "code",
     "collapsed": false,
     "input": [
      "mask = data[\"alpha\"] < 35\n",
      "masks[\"alpha\"] = mask"
     ],
     "language": "python",
     "metadata": {},
     "outputs": [],
     "prompt_number": 16
    },
    {
     "cell_type": "heading",
     "level": 1,
     "metadata": {},
     "source": [
      "combine the masks"
     ]
    },
    {
     "cell_type": "code",
     "collapsed": false,
     "input": [
      "M = [True for i in range(data.shape[0])]\n",
      "for m in masks.values():\n",
      "    M = np.logical_and(M, m)\n",
      "M = np.logical_and(M, mask_TSM1)"
     ],
     "language": "python",
     "metadata": {},
     "outputs": [],
     "prompt_number": 17
    },
    {
     "cell_type": "heading",
     "level": 1,
     "metadata": {},
     "source": [
      "obtain the original inputs"
     ]
    },
    {
     "cell_type": "code",
     "collapsed": false,
     "input": [
      "#print inputs_path\n",
      "f = h5py.File(inputs_path, \"r\")\n",
      "mNW = f[\"m_main\"][...]\n",
      "mSE = f[\"m_sub\"][...]\n",
      "zNW_stat = f[\"z_main\"][...]\n",
      "zSE_stat = f[\"z_sub\"][...]\n",
      "d_proj = f[\"D_proj\"][...]\n",
      "f.close()\n",
      "\n",
      "mNW /= 1e14\n",
      "mSE /= 1e14"
     ],
     "language": "python",
     "metadata": {},
     "outputs": [],
     "prompt_number": 18
    },
    {
     "cell_type": "heading",
     "level": 3,
     "metadata": {},
     "source": [
      "the redshift either comes as samples of pdf or as (stat) parameters of the pdf "
     ]
    },
    {
     "cell_type": "code",
     "collapsed": false,
     "input": [
      "if np.shape(zNW_stat)[0] > 2:\n",
      "    zNW = zNW_stat.flatten()\n",
      "elif np.shape(zNW_stat)[0] == 2:\n",
      "    zNW = norm.rvs(loc=zNW_stat[0], scale=zNW_stat[1], \n",
      "               size=int(data[M].shape[0]))\n",
      "    \n",
      "if np.shape(zSE_stat)[0] > 2:     \n",
      "    zSE = zSE_stat.flatten()\n",
      "elif np.shape(zNW_stat)[0] == 2:\n",
      "    zSE = norm.rvs(loc=zSE_stat[0], scale=zSE_stat[1], \n",
      "                   size=int(data[M].shape[0]))"
     ],
     "language": "python",
     "metadata": {},
     "outputs": [],
     "prompt_number": 19
    },
    {
     "cell_type": "heading",
     "level": 1,
     "metadata": {},
     "source": [
      "Initialize the original distribution for the z of the subclusters"
     ]
    },
    {
     "cell_type": "markdown",
     "metadata": {},
     "source": [
      "resample to appropriate size for more or less the same resolution as the outputs of the simulation for plotting "
     ]
    },
    {
     "cell_type": "code",
     "collapsed": false,
     "input": [
      "mNW = resample_to_size(mNW, data[M].shape[0]) \n",
      "mSE = resample_to_size(mSE, data[M].shape[0]) \n",
      "zNW = resample_to_size(zNW, data[M].shape[0])\n",
      "zSE = resample_to_size(zSE, data[M].shape[0]) \n",
      "d_proj = resample_to_size(d_proj, data[M].shape[0])\n",
      "inputs = np.array([mNW, mSE, zNW, zSE, d_proj]).transpose()"
     ],
     "language": "python",
     "metadata": {},
     "outputs": [],
     "prompt_number": 20
    },
    {
     "cell_type": "code",
     "collapsed": true,
     "input": [
      "inputDF = \\\n",
      "    pd.DataFrame(inputs, columns=[ \"mNW\", \"mSE\", \"zNW\", \"zSE\", \"dproj\"])"
     ],
     "language": "python",
     "metadata": {},
     "outputs": [],
     "prompt_number": 21
    },
    {
     "cell_type": "code",
     "collapsed": false,
     "input": [
      "Nvar_list = [\"m_1\", \"m_2\", \"z_1\", \"z_2\", \"d_proj\"]"
     ],
     "language": "python",
     "metadata": {},
     "outputs": [],
     "prompt_number": 22
    },
    {
     "cell_type": "code",
     "collapsed": false,
     "input": [
      "axlabel_test = {key: key for key in Nvar_list + list(inputDF.columns)}"
     ],
     "language": "python",
     "metadata": {},
     "outputs": [],
     "prompt_number": 23
    },
    {
     "cell_type": "code",
     "collapsed": false,
     "input": [
      "#histplot1d(data[\"z_1\"], plot=True)"
     ],
     "language": "python",
     "metadata": {},
     "outputs": [],
     "prompt_number": 24
    },
    {
     "cell_type": "code",
     "collapsed": false,
     "input": [
      "#histplot1d(inputDF[\"zSE\"], plot=True)"
     ],
     "language": "python",
     "metadata": {},
     "outputs": [],
     "prompt_number": 25
    },
    {
     "cell_type": "code",
     "collapsed": false,
     "input": [
      "#pd.scatter_matrix(inputDF, diagonal=\"kde\")"
     ],
     "language": "python",
     "metadata": {},
     "outputs": [],
     "prompt_number": 26
    },
    {
     "cell_type": "code",
     "collapsed": false,
     "input": [
      "inputDF.describe()"
     ],
     "language": "python",
     "metadata": {},
     "outputs": [
      {
       "html": [
        "<div style=\"max-height:1000px;max-width:1500px;overflow:auto;\">\n",
        "<table border=\"1\" class=\"dataframe\">\n",
        "  <thead>\n",
        "    <tr style=\"text-align: right;\">\n",
        "      <th></th>\n",
        "      <th>mNW</th>\n",
        "      <th>mSE</th>\n",
        "      <th>zNW</th>\n",
        "      <th>zSE</th>\n",
        "      <th>dproj</th>\n",
        "    </tr>\n",
        "  </thead>\n",
        "  <tbody>\n",
        "    <tr>\n",
        "      <th>count</th>\n",
        "      <td> 916308.000000</td>\n",
        "      <td> 916308.000000</td>\n",
        "      <td> 916308.000000</td>\n",
        "      <td> 916308.000000</td>\n",
        "      <td> 916308.000000</td>\n",
        "    </tr>\n",
        "    <tr>\n",
        "      <th>mean</th>\n",
        "      <td>     13.536150</td>\n",
        "      <td>      7.641173</td>\n",
        "      <td>      0.868418</td>\n",
        "      <td>      0.871086</td>\n",
        "      <td>      0.744420</td>\n",
        "    </tr>\n",
        "    <tr>\n",
        "      <th>std</th>\n",
        "      <td>      1.558933</td>\n",
        "      <td>      1.216276</td>\n",
        "      <td>      0.001079</td>\n",
        "      <td>      0.001160</td>\n",
        "      <td>      0.006956</td>\n",
        "    </tr>\n",
        "    <tr>\n",
        "      <th>min</th>\n",
        "      <td>      8.145469</td>\n",
        "      <td>      4.066025</td>\n",
        "      <td>      0.863738</td>\n",
        "      <td>      0.865856</td>\n",
        "      <td>      0.716201</td>\n",
        "    </tr>\n",
        "    <tr>\n",
        "      <th>25%</th>\n",
        "      <td>     12.471813</td>\n",
        "      <td>      6.807812</td>\n",
        "      <td>      0.867694</td>\n",
        "      <td>      0.870311</td>\n",
        "      <td>      0.739679</td>\n",
        "    </tr>\n",
        "    <tr>\n",
        "      <th>50%</th>\n",
        "      <td>     13.477877</td>\n",
        "      <td>      7.605687</td>\n",
        "      <td>      0.868419</td>\n",
        "      <td>      0.871108</td>\n",
        "      <td>      0.744400</td>\n",
        "    </tr>\n",
        "    <tr>\n",
        "      <th>75%</th>\n",
        "      <td>     14.558646</td>\n",
        "      <td>      8.419837</td>\n",
        "      <td>      0.869145</td>\n",
        "      <td>      0.871877</td>\n",
        "      <td>      0.749128</td>\n",
        "    </tr>\n",
        "    <tr>\n",
        "      <th>max</th>\n",
        "      <td>     20.371231</td>\n",
        "      <td>     15.080415</td>\n",
        "      <td>      0.873044</td>\n",
        "      <td>      0.875630</td>\n",
        "      <td>      0.771999</td>\n",
        "    </tr>\n",
        "  </tbody>\n",
        "</table>\n",
        "</div>"
       ],
       "metadata": {},
       "output_type": "pyout",
       "prompt_number": 27,
       "text": [
        "                 mNW            mSE            zNW            zSE  \\\n",
        "count  916308.000000  916308.000000  916308.000000  916308.000000   \n",
        "mean       13.536150       7.641173       0.868418       0.871086   \n",
        "std         1.558933       1.216276       0.001079       0.001160   \n",
        "min         8.145469       4.066025       0.863738       0.865856   \n",
        "25%        12.471813       6.807812       0.867694       0.870311   \n",
        "50%        13.477877       7.605687       0.868419       0.871108   \n",
        "75%        14.558646       8.419837       0.869145       0.871877   \n",
        "max        20.371231      15.080415       0.873044       0.875630   \n",
        "\n",
        "               dproj  \n",
        "count  916308.000000  \n",
        "mean        0.744420  \n",
        "std         0.006956  \n",
        "min         0.716201  \n",
        "25%         0.739679  \n",
        "50%         0.744400  \n",
        "75%         0.749128  \n",
        "max         0.771999  "
       ]
      }
     ],
     "prompt_number": 27
    },
    {
     "cell_type": "heading",
     "level": 1,
     "metadata": {},
     "source": [
      "Visualize the origin input vs. inputs after simulations "
     ]
    },
    {
     "cell_type": "markdown",
     "metadata": {},
     "source": [
      "  [] should make sure x and y axes are on the same scale for fair comparison\n",
      "any ellipticity will then show how the simulation affects the input parameter space"
     ]
    },
    {
     "cell_type": "code",
     "collapsed": false,
     "input": [
      "to_rot = {key: -90 for key in Nvar_list}"
     ],
     "language": "python",
     "metadata": {},
     "outputs": [],
     "prompt_number": 28
    },
    {
     "cell_type": "code",
     "collapsed": false,
     "input": [
      "to_rot"
     ],
     "language": "python",
     "metadata": {},
     "outputs": [
      {
       "metadata": {},
       "output_type": "pyout",
       "prompt_number": 29,
       "text": [
        "{'d_proj': -90, 'm_1': -90, 'm_2': -90, 'z_1': -90, 'z_2': -90}"
       ]
      }
     ],
     "prompt_number": 29
    },
    {
     "cell_type": "code",
     "collapsed": false,
     "input": [
      "axlims = {key: (None, None) for key in Nvar_list + list(inputDF.columns)}"
     ],
     "language": "python",
     "metadata": {},
     "outputs": [],
     "prompt_number": 30
    },
    {
     "cell_type": "code",
     "collapsed": false,
     "input": [
      "axlims"
     ],
     "language": "python",
     "metadata": {},
     "outputs": [
      {
       "metadata": {},
       "output_type": "pyout",
       "prompt_number": 31,
       "text": [
        "{'d_proj': (None, None),\n",
        " 'dproj': (None, None),\n",
        " 'mNW': (None, None),\n",
        " 'mSE': (None, None),\n",
        " 'm_1': (None, None),\n",
        " 'm_2': (None, None),\n",
        " 'zNW': (None, None),\n",
        " 'zSE': (None, None),\n",
        " 'z_1': (None, None),\n",
        " 'z_2': (None, None)}"
       ]
      }
     ],
     "prompt_number": 31
    },
    {
     "cell_type": "code",
     "collapsed": false,
     "input": [
      "axlims[\"d_proj\"] + axlims[\"mNW\"]"
     ],
     "language": "python",
     "metadata": {},
     "outputs": [
      {
       "metadata": {},
       "output_type": "pyout",
       "prompt_number": 32,
       "text": [
        "(None, None, None, None)"
       ]
      }
     ],
     "prompt_number": 32
    },
    {
     "cell_type": "code",
     "collapsed": false,
     "input": [
      "axlabels = {}\n",
      "axlabels[\"d_proj\"] = r\"$d_{proj}$ (Mpc)\"\n",
      "axlabels[\"m_1\"] = r\"$m_{NW} (10^{14} M_{\\odot})$\"\n",
      "axlabels[\"m_2\"] = r\"$m_{SE} (10^{14} M_{\\odot})$\"\n",
      "axlabels[\"z_1\"] = r\"$z_1$\"\n",
      "axlabels[\"z_2\"] = r\"$z_2$\"\n",
      "axlabels[\"mNW\"] = axlabels[\"m_1\"]\n",
      "axlabels[\"mSE\"] = axlabels[\"m_2\"]\n",
      "axlabels[\"zNW\"] = axlabels[\"z_1\"]\n",
      "axlabels[\"zSE\"] = axlabels[\"z_2\"]\n",
      "axlabels[\"dproj\"] = axlabels[\"d_proj\"]"
     ],
     "language": "python",
     "metadata": {},
     "outputs": [],
     "prompt_number": 33
    },
    {
     "cell_type": "heading",
     "level": 1,
     "metadata": {},
     "source": [
      "Input in vs input out"
     ]
    },
    {
     "cell_type": "heading",
     "level": 1,
     "metadata": {},
     "source": [
      "label the variables into different categories"
     ]
    },
    {
     "cell_type": "code",
     "collapsed": false,
     "input": [
      "input_var = [\"m_1\", \"m_2\", \"z_1\", \"z_2\", \"d_proj\"]\n",
      "time_var = [\"TSM_0\", \"TSM_1\", \"T\"]\n",
      "vel_var = [\"v_rad_obs\", \"v_3d_obs\", \"v_3d_col\"]\n",
      "geo_var = [\"d_3d\", \"d_max\", \"alpha\"]"
     ],
     "language": "python",
     "metadata": {},
     "outputs": [],
     "prompt_number": 34
    },
    {
     "cell_type": "markdown",
     "metadata": {},
     "source": [
      "# initialize all the histrange "
     ]
    },
    {
     "cell_type": "code",
     "collapsed": false,
     "input": [
      "data.columns"
     ],
     "language": "python",
     "metadata": {},
     "outputs": [
      {
       "metadata": {},
       "output_type": "pyout",
       "prompt_number": 35,
       "text": [
        "Index([u'm_1', u'm_2', u'z_1', u'z_2', u'd_proj', u'v_rad_obs', u'alpha', u'v_3d_obs', u'd_3d', u'v_3d_col', u'd_max', u'TSM_0', u'TSM_1', u'T', u'prob', u'indices'], dtype='object')"
       ]
      }
     ],
     "prompt_number": 35
    },
    {
     "cell_type": "code",
     "collapsed": false,
     "input": [
      "if \"indices\" in data.columns:\n",
      "    diff = -2\n",
      "else: \n",
      "    diff = -1"
     ],
     "language": "python",
     "metadata": {},
     "outputs": [],
     "prompt_number": 36
    },
    {
     "cell_type": "code",
     "collapsed": false,
     "input": [
      "assert len(input_var) + len(time_var) + len(vel_var) + \\\n",
      "    len(geo_var) - len(data.columns) == diff, \"var number not right\""
     ],
     "language": "python",
     "metadata": {},
     "outputs": [],
     "prompt_number": 37
    },
    {
     "cell_type": "code",
     "collapsed": false,
     "input": [
      "histran = dict.fromkeys(par)\n",
      "histran['TSM_1'] = (0, age)\n",
      "histran['T'] = (0, 20)\n",
      "histran['TSM_0'] = (0, age)\n",
      "#histran['d_proj'] = (.66, .75)"
     ],
     "language": "python",
     "metadata": {},
     "outputs": [],
     "prompt_number": 38
    },
    {
     "cell_type": "code",
     "collapsed": false,
     "input": [
      "histran"
     ],
     "language": "python",
     "metadata": {},
     "outputs": [
      {
       "metadata": {},
       "output_type": "pyout",
       "prompt_number": 39,
       "text": [
        "{'T': (0, 20),\n",
        " 'TSM_0': (0, 6.301094013638506),\n",
        " 'TSM_1': (0, 6.301094013638506),\n",
        " 'alpha': None,\n",
        " 'd_3d': None,\n",
        " 'd_max': None,\n",
        " 'd_proj': None,\n",
        " 'indices': None,\n",
        " 'm_1': None,\n",
        " 'm_2': None,\n",
        " 'v_3d_col': None,\n",
        " 'v_3d_obs': None,\n",
        " 'v_rad_obs': None,\n",
        " 'z_1': None,\n",
        " 'z_2': None}"
       ]
      }
     ],
     "prompt_number": 39
    },
    {
     "cell_type": "heading",
     "level": 1,
     "metadata": {},
     "source": [
      "Initialize all the axlabels"
     ]
    },
    {
     "cell_type": "code",
     "collapsed": false,
     "input": [
      "axlabels = dict.fromkeys(par)\n",
      "axlabels[\"T\"] = r\"$T$ (Gyr)\"\n",
      "axlabels[\"TSM_1\"] = r\"$TSP_{ret}$ (Gyr)\"\n",
      "axlabels[\"TSM_0\"] = r\"$TSP_{out}$ (Gyr)\"\n",
      "axlabels[\"alpha\"] = r\"$\\alpha$\" \n",
      "axlabels[\"d_3d\"] = r\"$d_{3D}$ (Mpc)\"\n",
      "axlabels[\"d_max\"] = r\"$d_{max}$ (Mpc)\"\n",
      "axlabels[\"d_proj\"] = r\"$d_{proj}$ (Mpc)\"\n",
      "axlabels[\"m_1\"] = r\"$m_{NW} (10^{14} M_{\\odot})$\"\n",
      "axlabels[\"m_2\"] = r\"$m_{SE} (10^{14} M_{\\odot})$\"\n",
      "axlabels[\"v_3d_col\"] = r\"$v_{3D}(t_{per})$ (km / s)\"\n",
      "axlabels[\"v_3d_obs\"] = r\"$v_{3D}(t_{obs})$ (km / s)\"\n",
      "axlabels[\"v_rad_obs\"] = r\"$v_{rad}(t_{obs})$ (km / s)\"\n",
      "axlabels[\"z_1\"] = r\"$z_1$\"\n",
      "axlabels[\"z_2\"] = r\"$z_2$\""
     ],
     "language": "python",
     "metadata": {},
     "outputs": [],
     "prompt_number": 40
    },
    {
     "cell_type": "heading",
     "level": 1,
     "metadata": {},
     "source": [
      "Initialize all the ax limits"
     ]
    },
    {
     "cell_type": "code",
     "collapsed": false,
     "input": [
      "axlims = {key: (None, None) for key in par}\n",
      "axlims[\"alpha\"] = (0, 35)\n",
      "axlims[\"d_proj\"] = (0.72, .78)\n",
      "axlims[\"d_max\"] = (0.5, 2.3)\n",
      "axlims['TSM_1'] = (0.3, 3)\n",
      "axlims['T'] = (0.8, 3)\n",
      "axlims['TSM_0'] = (0, 1.0)\n",
      "axlims['alpha'] = (0, 35)"
     ],
     "language": "python",
     "metadata": {},
     "outputs": [],
     "prompt_number": 41
    },
    {
     "cell_type": "code",
     "collapsed": false,
     "input": [
      "axlims"
     ],
     "language": "python",
     "metadata": {},
     "outputs": [
      {
       "metadata": {},
       "output_type": "pyout",
       "prompt_number": 42,
       "text": [
        "{'T': (0.8, 3),\n",
        " 'TSM_0': (0, 1.0),\n",
        " 'TSM_1': (0.3, 3),\n",
        " 'alpha': (0, 35),\n",
        " 'd_3d': (None, None),\n",
        " 'd_max': (0.5, 2.3),\n",
        " 'd_proj': (0.72, 0.78),\n",
        " 'indices': (None, None),\n",
        " 'm_1': (None, None),\n",
        " 'm_2': (None, None),\n",
        " 'v_3d_col': (None, None),\n",
        " 'v_3d_obs': (None, None),\n",
        " 'v_rad_obs': (None, None),\n",
        " 'z_1': (None, None),\n",
        " 'z_2': (None, None)}"
       ]
      }
     ],
     "prompt_number": 42
    },
    {
     "cell_type": "heading",
     "level": 1,
     "metadata": {},
     "source": [
      "x-axis label rotation angle"
     ]
    },
    {
     "cell_type": "code",
     "collapsed": false,
     "input": [
      "data.columns"
     ],
     "language": "python",
     "metadata": {},
     "outputs": [
      {
       "metadata": {},
       "output_type": "pyout",
       "prompt_number": 43,
       "text": [
        "Index([u'm_1', u'm_2', u'z_1', u'z_2', u'd_proj', u'v_rad_obs', u'alpha', u'v_3d_obs', u'd_3d', u'v_3d_col', u'd_max', u'TSM_0', u'TSM_1', u'T', u'prob', u'indices'], dtype='object')"
       ]
      }
     ],
     "prompt_number": 43
    },
    {
     "cell_type": "code",
     "collapsed": false,
     "input": [
      "# xaxis rot \n",
      "xlabel_to_rot = {key: 0 for key in par}\n",
      "xlabel_to_rot[\"alpha\"] = 20\n",
      "xlabel_to_rot[\"d_max\"] = 45 \n",
      "xlabel_to_rot[\"d_proj\"] = 45\n",
      "xlabel_to_rot[\"d_3d\"] = 45\n",
      "xlabel_to_rot[\"m_1\"] = 45\n",
      "#xlabel_to_rot[\"m_2\"] = 45\n",
      "xlabel_to_rot[\"z_1\"] = 45\n",
      "xlabel_to_rot[\"z_2\"] = 45\n",
      "xlabel_to_rot[\"v_3d_obs\"] = 45\n",
      "xlabel_to_rot[\"v_3d_col\"] = 45 \n",
      "xlabel_to_rot[\"v_rad_obs\"] = 45"
     ],
     "language": "python",
     "metadata": {},
     "outputs": [],
     "prompt_number": 44
    },
    {
     "cell_type": "code",
     "collapsed": false,
     "input": [
      "xlabel_to_rot"
     ],
     "language": "python",
     "metadata": {},
     "outputs": [
      {
       "metadata": {},
       "output_type": "pyout",
       "prompt_number": 45,
       "text": [
        "{'T': 0,\n",
        " 'TSM_0': 0,\n",
        " 'TSM_1': 0,\n",
        " 'alpha': 20,\n",
        " 'd_3d': 45,\n",
        " 'd_max': 45,\n",
        " 'd_proj': 45,\n",
        " 'indices': 0,\n",
        " 'm_1': 45,\n",
        " 'm_2': 0,\n",
        " 'v_3d_col': 45,\n",
        " 'v_3d_obs': 45,\n",
        " 'v_rad_obs': 45,\n",
        " 'z_1': 45,\n",
        " 'z_2': 45}"
       ]
      }
     ],
     "prompt_number": 45
    },
    {
     "cell_type": "heading",
     "level": 1,
     "metadata": {},
     "source": [
      "initialize 2D bin size"
     ]
    },
    {
     "cell_type": "code",
     "collapsed": false,
     "input": [
      "par"
     ],
     "language": "python",
     "metadata": {},
     "outputs": [
      {
       "metadata": {},
       "output_type": "pyout",
       "prompt_number": 46,
       "text": [
        "array(['m_1', 'm_2', 'z_1', 'z_2', 'd_proj', 'v_rad_obs', 'alpha',\n",
        "       'v_3d_obs', 'd_3d', 'v_3d_col', 'd_max', 'TSM_0', 'TSM_1', 'T',\n",
        "       'indices'], \n",
        "      dtype='|S9')"
       ]
      }
     ],
     "prompt_number": 46
    },
    {
     "cell_type": "code",
     "collapsed": false,
     "input": [
      "nbin_keys = comb_zip(par, par)  \n",
      "Nbins_2D = {key : nbins_2D for key in nbin_keys}\n"
     ],
     "language": "python",
     "metadata": {},
     "outputs": [],
     "prompt_number": 47
    },
    {
     "cell_type": "code",
     "collapsed": false,
     "input": [
      "Nbins_2D[(\"TSM_0\", \"T\", )] = 30\n",
      "Nbins_2D[(\"TSM_0\", \"TSM_1\")] = 30"
     ],
     "language": "python",
     "metadata": {},
     "outputs": [],
     "prompt_number": 48
    },
    {
     "cell_type": "heading",
     "level": 1,
     "metadata": {},
     "source": [
      "Make plot no. 1 - inputs vs input from simulations"
     ]
    },
    {
     "cell_type": "code",
     "collapsed": false,
     "input": [
      "N = 3\n",
      "space = 0 "
     ],
     "language": "python",
     "metadata": {},
     "outputs": [],
     "prompt_number": 49
    },
    {
     "cell_type": "heading",
     "level": 1,
     "metadata": {},
     "source": [
      "Initialize texlabels and texUnits"
     ]
    },
    {
     "cell_type": "code",
     "collapsed": false,
     "input": [
      "data.columns"
     ],
     "language": "python",
     "metadata": {},
     "outputs": [
      {
       "metadata": {},
       "output_type": "pyout",
       "prompt_number": 50,
       "text": [
        "Index([u'm_1', u'm_2', u'z_1', u'z_2', u'd_proj', u'v_rad_obs', u'alpha', u'v_3d_obs', u'd_3d', u'v_3d_col', u'd_max', u'TSM_0', u'TSM_1', u'T', u'prob', u'indices'], dtype='object')"
       ]
      }
     ],
     "prompt_number": 50
    },
    {
     "cell_type": "code",
     "collapsed": false,
     "input": [
      "texlabels = dict.fromkeys(par[par != \"indices\"])\n",
      "texlabels[\"alpha\"] = \"\\\\alpha\"\n",
      "texlabels[\"TSM_0\"] = \"TSP_{out}\"\n",
      "texlabels[\"TSM_1\"] = \"TSP_{ret}\"\n",
      "texlabels[\"T\"] = \"T\"\n",
      "texlabels[\"v_3d_col\"] = \"v_{3D}(t_{per})\"\n",
      "texlabels[\"v_3d_obs\"] = \"v_{3D}(t_{obs})\"\n",
      "texlabels[\"v_rad_obs\"] = \"v_{rad}(t_{obs})\"\n",
      "texlabels[\"d_max\"] = \"d_{max}\"\n",
      "texlabels[\"d_3d\"] = \"d_{3D}\"\n",
      "texlabels[\"m_1\"] = \"M_{200c_{\\\\mathrm{NW}}}\"\n",
      "texlabels[\"m_2\"] = \"M_{200c_{\\\\mathrm{SE}}}\"\n",
      "texlabels[\"z_1\"] = \"z_{NW}\"\n",
      "texlabels[\"z_2\"] = \"z_{SE}\"\n",
      "texlabels[\"d_proj\"] = \"d_{proj}\""
     ],
     "language": "python",
     "metadata": {},
     "outputs": [],
     "prompt_number": 51
    },
    {
     "cell_type": "code",
     "collapsed": false,
     "input": [
      "texlabels"
     ],
     "language": "python",
     "metadata": {},
     "outputs": [
      {
       "metadata": {},
       "output_type": "pyout",
       "prompt_number": 52,
       "text": [
        "{'T': 'T',\n",
        " 'TSM_0': 'TSP_{out}',\n",
        " 'TSM_1': 'TSP_{ret}',\n",
        " 'alpha': '\\\\alpha',\n",
        " 'd_3d': 'd_{3D}',\n",
        " 'd_max': 'd_{max}',\n",
        " 'd_proj': 'd_{proj}',\n",
        " 'm_1': 'M_{200c_{\\\\mathrm{NW}}}',\n",
        " 'm_2': 'M_{200c_{\\\\mathrm{SE}}}',\n",
        " 'v_3d_col': 'v_{3D}(t_{per})',\n",
        " 'v_3d_obs': 'v_{3D}(t_{obs})',\n",
        " 'v_rad_obs': 'v_{rad}(t_{obs})',\n",
        " 'z_1': 'z_{NW}',\n",
        " 'z_2': 'z_{SE}'}"
       ]
      }
     ],
     "prompt_number": 52
    },
    {
     "cell_type": "heading",
     "level": 1,
     "metadata": {},
     "source": [
      "Initialize the units"
     ]
    },
    {
     "cell_type": "code",
     "collapsed": false,
     "input": [
      "texUnits = dict.fromkeys(par[par != \"indices\"])\n",
      "texUnits[\"alpha\"] = \"(degree)\"\n",
      "texUnits[\"TSM_0\"] = \"Gyr\"\n",
      "texUnits[\"TSM_1\"] = \"Gyr\"\n",
      "texUnits[\"T\"] = \"Gyr\"\n",
      "texUnits[\"d_max\"] = \"Mpc\"\n",
      "texUnits[\"v_3d_obs\"] = \"\\\\kilo \\\\meter ~ \\\\second$^{-1}$\"\n",
      "texUnits[\"v_3d_col\"] = \"\\\\kilo \\\\meter ~ \\\\second$^{-1}$\"\n",
      "texUnits[\"d_proj\"] = \"Mpc\" \n",
      "texUnits[\"d_3d\"] = \"Mpc\"\n",
      "texUnits[\"m_1\"] = \"$10^{14} h_{70}^{-1}$ M$_{\\odot}$\"\n",
      "texUnits[\"m_2\"] = \"$10^{14} h_{70}^{-1}$ M$_{\\odot}$\"\n",
      "texUnits[\"z_1\"] = \"/\"\n",
      "texUnits[\"z_2\"] = \"/\""
     ],
     "language": "python",
     "metadata": {},
     "outputs": [],
     "prompt_number": 53
    },
    {
     "cell_type": "heading",
     "level": 1,
     "metadata": {},
     "source": [
      "Look at the credible region as df with prior"
     ]
    },
    {
     "cell_type": "code",
     "collapsed": false,
     "input": [
      "#reload(sys.modules[\"plotmod\"])\n",
      "from plotmod import *\n",
      "N_bins = {key: 'knuth' for key in par[par != \"indices\"]}"
     ],
     "language": "python",
     "metadata": {},
     "outputs": [],
     "prompt_number": 54
    },
    {
     "cell_type": "code",
     "collapsed": false,
     "input": [
      "N_bins"
     ],
     "language": "python",
     "metadata": {},
     "outputs": [
      {
       "metadata": {},
       "output_type": "pyout",
       "prompt_number": 55,
       "text": [
        "{'T': 'knuth',\n",
        " 'TSM_0': 'knuth',\n",
        " 'TSM_1': 'knuth',\n",
        " 'alpha': 'knuth',\n",
        " 'd_3d': 'knuth',\n",
        " 'd_max': 'knuth',\n",
        " 'd_proj': 'knuth',\n",
        " 'm_1': 'knuth',\n",
        " 'm_2': 'knuth',\n",
        " 'v_3d_col': 'knuth',\n",
        " 'v_3d_obs': 'knuth',\n",
        " 'v_rad_obs': 'knuth',\n",
        " 'z_1': 'knuth',\n",
        " 'z_2': 'knuth'}"
       ]
      }
     ],
     "prompt_number": 55
    },
    {
     "cell_type": "code",
     "collapsed": false,
     "input": [
      "mask_ridiculous = data[\"TSM_1\"] > 20"
     ],
     "language": "python",
     "metadata": {},
     "outputs": [],
     "prompt_number": 56
    },
    {
     "cell_type": "code",
     "collapsed": false,
     "input": [
      "data[mask_ridiculous].describe()"
     ],
     "language": "python",
     "metadata": {},
     "outputs": [
      {
       "html": [
        "<div style=\"max-height:1000px;max-width:1500px;overflow:auto;\">\n",
        "<table border=\"1\" class=\"dataframe\">\n",
        "  <thead>\n",
        "    <tr style=\"text-align: right;\">\n",
        "      <th></th>\n",
        "      <th>m_1</th>\n",
        "      <th>m_2</th>\n",
        "      <th>z_1</th>\n",
        "      <th>z_2</th>\n",
        "      <th>d_proj</th>\n",
        "      <th>v_rad_obs</th>\n",
        "      <th>alpha</th>\n",
        "      <th>v_3d_obs</th>\n",
        "      <th>d_3d</th>\n",
        "      <th>v_3d_col</th>\n",
        "      <th>d_max</th>\n",
        "      <th>TSM_0</th>\n",
        "      <th>TSM_1</th>\n",
        "      <th>T</th>\n",
        "      <th>prob</th>\n",
        "      <th>indices</th>\n",
        "    </tr>\n",
        "  </thead>\n",
        "  <tbody>\n",
        "    <tr>\n",
        "      <th>count</th>\n",
        "      <td> 24382.000000</td>\n",
        "      <td> 24382.000000</td>\n",
        "      <td> 24382.000000</td>\n",
        "      <td> 24382.000000</td>\n",
        "      <td> 24382.000000</td>\n",
        "      <td> 24382.000000</td>\n",
        "      <td> 24382.000000</td>\n",
        "      <td> 24382.000000</td>\n",
        "      <td> 24382.000000</td>\n",
        "      <td> 24382.000000</td>\n",
        "      <td>  24382.000000</td>\n",
        "      <td> 24382.000000</td>\n",
        "      <td> 2.438200e+04</td>\n",
        "      <td> 2.438200e+04</td>\n",
        "      <td> 2.438200e+04</td>\n",
        "      <td> 24382.000000</td>\n",
        "    </tr>\n",
        "    <tr>\n",
        "      <th>mean</th>\n",
        "      <td>    13.455721</td>\n",
        "      <td>     7.606592</td>\n",
        "      <td>     0.867982</td>\n",
        "      <td>     0.871575</td>\n",
        "      <td>     0.744529</td>\n",
        "      <td>   581.694623</td>\n",
        "      <td>    22.057077</td>\n",
        "      <td>  3384.896204</td>\n",
        "      <td>     2.197974</td>\n",
        "      <td>  4454.276493</td>\n",
        "      <td>    108.066141</td>\n",
        "      <td>     1.106809</td>\n",
        "      <td> 3.076061e+04</td>\n",
        "      <td> 3.076171e+04</td>\n",
        "      <td> 6.321686e-02</td>\n",
        "      <td> 19914.203060</td>\n",
        "    </tr>\n",
        "    <tr>\n",
        "      <th>std</th>\n",
        "      <td>     1.548183</td>\n",
        "      <td>     1.209927</td>\n",
        "      <td>     0.001105</td>\n",
        "      <td>     0.001170</td>\n",
        "      <td>     0.006979</td>\n",
        "      <td>   252.728230</td>\n",
        "      <td>    30.345328</td>\n",
        "      <td>  1226.015294</td>\n",
        "      <td>     3.039912</td>\n",
        "      <td>   154.663566</td>\n",
        "      <td>   5827.286979</td>\n",
        "      <td>     1.975523</td>\n",
        "      <td> 4.209570e+06</td>\n",
        "      <td> 4.209570e+06</td>\n",
        "      <td> 1.229023e-01</td>\n",
        "      <td> 11584.306809</td>\n",
        "    </tr>\n",
        "    <tr>\n",
        "      <th>min</th>\n",
        "      <td>     8.145469</td>\n",
        "      <td>     4.117809</td>\n",
        "      <td>     0.863738</td>\n",
        "      <td>     0.865864</td>\n",
        "      <td>     0.716201</td>\n",
        "      <td>     1.073378</td>\n",
        "      <td>     0.015145</td>\n",
        "      <td>    84.716950</td>\n",
        "      <td>     0.716535</td>\n",
        "      <td>  2098.549024</td>\n",
        "      <td>      0.796253</td>\n",
        "      <td>     0.151217</td>\n",
        "      <td> 2.000193e+01</td>\n",
        "      <td> 2.018613e+01</td>\n",
        "      <td> 5.401711e-10</td>\n",
        "      <td>     0.000000</td>\n",
        "    </tr>\n",
        "    <tr>\n",
        "      <th>25%</th>\n",
        "      <td>    12.418316</td>\n",
        "      <td>     6.778776</td>\n",
        "      <td>     0.867233</td>\n",
        "      <td>     0.870805</td>\n",
        "      <td>     0.739776</td>\n",
        "      <td>   393.020334</td>\n",
        "      <td>     5.675936</td>\n",
        "      <td>  3757.124102</td>\n",
        "      <td>     0.747164</td>\n",
        "      <td>  4362.673754</td>\n",
        "      <td>     11.703942</td>\n",
        "      <td>     0.170736</td>\n",
        "      <td> 2.674596e+01</td>\n",
        "      <td> 2.888250e+01</td>\n",
        "      <td> 3.272981e-03</td>\n",
        "      <td>  9877.500000</td>\n",
        "    </tr>\n",
        "    <tr>\n",
        "      <th>50%</th>\n",
        "      <td>    13.413629</td>\n",
        "      <td>     7.571665</td>\n",
        "      <td>     0.867971</td>\n",
        "      <td>     0.871610</td>\n",
        "      <td>     0.744472</td>\n",
        "      <td>   580.800599</td>\n",
        "      <td>     8.448291</td>\n",
        "      <td>  3927.663617</td>\n",
        "      <td>     0.754382</td>\n",
        "      <td>  4455.875598</td>\n",
        "      <td>     15.474961</td>\n",
        "      <td>     0.175900</td>\n",
        "      <td> 4.263291e+01</td>\n",
        "      <td> 4.380328e+01</td>\n",
        "      <td> 8.886611e-03</td>\n",
        "      <td> 19845.000000</td>\n",
        "    </tr>\n",
        "    <tr>\n",
        "      <th>75%</th>\n",
        "      <td>    14.467090</td>\n",
        "      <td>     8.378580</td>\n",
        "      <td>     0.868729</td>\n",
        "      <td>     0.872389</td>\n",
        "      <td>     0.749197</td>\n",
        "      <td>   764.416030</td>\n",
        "      <td>    12.491132</td>\n",
        "      <td>  4046.304942</td>\n",
        "      <td>     0.766378</td>\n",
        "      <td>  4548.620860</td>\n",
        "      <td>     28.417536</td>\n",
        "      <td>     0.183857</td>\n",
        "      <td> 1.076025e+02</td>\n",
        "      <td> 1.079299e+02</td>\n",
        "      <td> 1.584778e-02</td>\n",
        "      <td> 29867.500000</td>\n",
        "    </tr>\n",
        "    <tr>\n",
        "      <th>max</th>\n",
        "      <td>    20.371231</td>\n",
        "      <td>    15.080415</td>\n",
        "      <td>     0.873044</td>\n",
        "      <td>     0.875457</td>\n",
        "      <td>     0.771999</td>\n",
        "      <td>  1677.668247</td>\n",
        "      <td>    86.303972</td>\n",
        "      <td>  4574.418479</td>\n",
        "      <td>    11.602199</td>\n",
        "      <td>  5018.612105</td>\n",
        "      <td> 894168.304060</td>\n",
        "      <td>     6.311610</td>\n",
        "      <td> 6.560502e+08</td>\n",
        "      <td> 6.560502e+08</td>\n",
        "      <td> 4.761913e-01</td>\n",
        "      <td> 39999.000000</td>\n",
        "    </tr>\n",
        "  </tbody>\n",
        "</table>\n",
        "</div>"
       ],
       "metadata": {},
       "output_type": "pyout",
       "prompt_number": 57,
       "text": [
        "                m_1           m_2           z_1           z_2        d_proj  \\\n",
        "count  24382.000000  24382.000000  24382.000000  24382.000000  24382.000000   \n",
        "mean      13.455721      7.606592      0.867982      0.871575      0.744529   \n",
        "std        1.548183      1.209927      0.001105      0.001170      0.006979   \n",
        "min        8.145469      4.117809      0.863738      0.865864      0.716201   \n",
        "25%       12.418316      6.778776      0.867233      0.870805      0.739776   \n",
        "50%       13.413629      7.571665      0.867971      0.871610      0.744472   \n",
        "75%       14.467090      8.378580      0.868729      0.872389      0.749197   \n",
        "max       20.371231     15.080415      0.873044      0.875457      0.771999   \n",
        "\n",
        "          v_rad_obs         alpha      v_3d_obs          d_3d      v_3d_col  \\\n",
        "count  24382.000000  24382.000000  24382.000000  24382.000000  24382.000000   \n",
        "mean     581.694623     22.057077   3384.896204      2.197974   4454.276493   \n",
        "std      252.728230     30.345328   1226.015294      3.039912    154.663566   \n",
        "min        1.073378      0.015145     84.716950      0.716535   2098.549024   \n",
        "25%      393.020334      5.675936   3757.124102      0.747164   4362.673754   \n",
        "50%      580.800599      8.448291   3927.663617      0.754382   4455.875598   \n",
        "75%      764.416030     12.491132   4046.304942      0.766378   4548.620860   \n",
        "max     1677.668247     86.303972   4574.418479     11.602199   5018.612105   \n",
        "\n",
        "               d_max         TSM_0         TSM_1             T          prob  \\\n",
        "count   24382.000000  24382.000000  2.438200e+04  2.438200e+04  2.438200e+04   \n",
        "mean      108.066141      1.106809  3.076061e+04  3.076171e+04  6.321686e-02   \n",
        "std      5827.286979      1.975523  4.209570e+06  4.209570e+06  1.229023e-01   \n",
        "min         0.796253      0.151217  2.000193e+01  2.018613e+01  5.401711e-10   \n",
        "25%        11.703942      0.170736  2.674596e+01  2.888250e+01  3.272981e-03   \n",
        "50%        15.474961      0.175900  4.263291e+01  4.380328e+01  8.886611e-03   \n",
        "75%        28.417536      0.183857  1.076025e+02  1.079299e+02  1.584778e-02   \n",
        "max    894168.304060      6.311610  6.560502e+08  6.560502e+08  4.761913e-01   \n",
        "\n",
        "            indices  \n",
        "count  24382.000000  \n",
        "mean   19914.203060  \n",
        "std    11584.306809  \n",
        "min        0.000000  \n",
        "25%     9877.500000  \n",
        "50%    19845.000000  \n",
        "75%    29867.500000  \n",
        "max    39999.000000  "
       ]
      }
     ],
     "prompt_number": 57
    },
    {
     "cell_type": "code",
     "collapsed": false,
     "input": [
      "data.describe()"
     ],
     "language": "python",
     "metadata": {},
     "outputs": [
      {
       "html": [
        "<div style=\"max-height:1000px;max-width:1500px;overflow:auto;\">\n",
        "<table border=\"1\" class=\"dataframe\">\n",
        "  <thead>\n",
        "    <tr style=\"text-align: right;\">\n",
        "      <th></th>\n",
        "      <th>m_1</th>\n",
        "      <th>m_2</th>\n",
        "      <th>z_1</th>\n",
        "      <th>z_2</th>\n",
        "      <th>d_proj</th>\n",
        "      <th>v_rad_obs</th>\n",
        "      <th>alpha</th>\n",
        "      <th>v_3d_obs</th>\n",
        "      <th>d_3d</th>\n",
        "      <th>v_3d_col</th>\n",
        "      <th>d_max</th>\n",
        "      <th>TSM_0</th>\n",
        "      <th>TSM_1</th>\n",
        "      <th>T</th>\n",
        "      <th>prob</th>\n",
        "      <th>indices</th>\n",
        "    </tr>\n",
        "  </thead>\n",
        "  <tbody>\n",
        "    <tr>\n",
        "      <th>count</th>\n",
        "      <td> 2000000.000000</td>\n",
        "      <td> 2000000.000000</td>\n",
        "      <td> 2000000.000000</td>\n",
        "      <td> 2000000.000000</td>\n",
        "      <td> 2000000.000000</td>\n",
        "      <td> 2000000.000000</td>\n",
        "      <td> 2000000.000000</td>\n",
        "      <td> 2000000.000000</td>\n",
        "      <td> 2000000.000000</td>\n",
        "      <td> 2000000.000000</td>\n",
        "      <td> 2000000.000000</td>\n",
        "      <td> 2000000.000000</td>\n",
        "      <td> 2.000000e+06</td>\n",
        "      <td> 2.000000e+06</td>\n",
        "      <td> 2.000000e+06</td>\n",
        "      <td> 2000000.000000</td>\n",
        "    </tr>\n",
        "    <tr>\n",
        "      <th>mean</th>\n",
        "      <td>      13.544341</td>\n",
        "      <td>       7.643611</td>\n",
        "      <td>       0.868482</td>\n",
        "      <td>       0.871013</td>\n",
        "      <td>       0.744413</td>\n",
        "      <td>     417.075586</td>\n",
        "      <td>      39.257249</td>\n",
        "      <td>    1022.301396</td>\n",
        "      <td>       1.434293</td>\n",
        "      <td>    2974.944140</td>\n",
        "      <td>       3.062645</td>\n",
        "      <td>       0.803340</td>\n",
        "      <td> 3.767725e+02</td>\n",
        "      <td> 3.775758e+02</td>\n",
        "      <td> 6.597375e-01</td>\n",
        "      <td>   19999.776106</td>\n",
        "    </tr>\n",
        "    <tr>\n",
        "      <th>std</th>\n",
        "      <td>       1.560701</td>\n",
        "      <td>       1.214730</td>\n",
        "      <td>       0.001077</td>\n",
        "      <td>       0.001159</td>\n",
        "      <td>       0.006960</td>\n",
        "      <td>     234.776380</td>\n",
        "      <td>      23.777233</td>\n",
        "      <td>     882.151337</td>\n",
        "      <td>       1.228709</td>\n",
        "      <td>     635.364290</td>\n",
        "      <td>     643.501621</td>\n",
        "      <td>       0.847905</td>\n",
        "      <td> 4.647935e+05</td>\n",
        "      <td> 4.647935e+05</td>\n",
        "      <td> 2.515106e-01</td>\n",
        "      <td>   11542.792294</td>\n",
        "    </tr>\n",
        "    <tr>\n",
        "      <th>min</th>\n",
        "      <td>       8.145469</td>\n",
        "      <td>       4.066025</td>\n",
        "      <td>       0.863738</td>\n",
        "      <td>       0.865856</td>\n",
        "      <td>       0.716201</td>\n",
        "      <td>       0.000373</td>\n",
        "      <td>       0.003021</td>\n",
        "      <td>       0.001396</td>\n",
        "      <td>       0.716535</td>\n",
        "      <td>    1941.547069</td>\n",
        "      <td>       0.710376</td>\n",
        "      <td>       0.151217</td>\n",
        "      <td> 5.422394e-01</td>\n",
        "      <td> 1.084479e+00</td>\n",
        "      <td> 5.401711e-10</td>\n",
        "      <td>       0.000000</td>\n",
        "    </tr>\n",
        "    <tr>\n",
        "      <th>25%</th>\n",
        "      <td>      12.482147</td>\n",
        "      <td>       6.809859</td>\n",
        "      <td>       0.867756</td>\n",
        "      <td>       0.870238</td>\n",
        "      <td>       0.739655</td>\n",
        "      <td>     237.100742</td>\n",
        "      <td>      18.047717</td>\n",
        "      <td>     420.887761</td>\n",
        "      <td>       0.783417</td>\n",
        "      <td>    2471.796269</td>\n",
        "      <td>       1.000498</td>\n",
        "      <td>       0.396336</td>\n",
        "      <td> 8.924978e-01</td>\n",
        "      <td> 1.426266e+00</td>\n",
        "      <td> 5.139578e-01</td>\n",
        "      <td>   10007.000000</td>\n",
        "    </tr>\n",
        "    <tr>\n",
        "      <th>50%</th>\n",
        "      <td>      13.489216</td>\n",
        "      <td>       7.609140</td>\n",
        "      <td>       0.868486</td>\n",
        "      <td>       0.871032</td>\n",
        "      <td>       0.744391</td>\n",
        "      <td>     406.782687</td>\n",
        "      <td>      36.482946</td>\n",
        "      <td>     733.904632</td>\n",
        "      <td>       0.925968</td>\n",
        "      <td>    2796.186676</td>\n",
        "      <td>       1.239054</td>\n",
        "      <td>       0.562707</td>\n",
        "      <td> 1.115845e+00</td>\n",
        "      <td> 1.655322e+00</td>\n",
        "      <td> 7.155032e-01</td>\n",
        "      <td>   20006.000000</td>\n",
        "    </tr>\n",
        "    <tr>\n",
        "      <th>75%</th>\n",
        "      <td>      14.566045</td>\n",
        "      <td>       8.421999</td>\n",
        "      <td>       0.869213</td>\n",
        "      <td>       0.871801</td>\n",
        "      <td>       0.749120</td>\n",
        "      <td>     578.174376</td>\n",
        "      <td>      59.336597</td>\n",
        "      <td>    1326.245343</td>\n",
        "      <td>       1.459907</td>\n",
        "      <td>    3417.944450</td>\n",
        "      <td>       1.921247</td>\n",
        "      <td>       0.787958</td>\n",
        "      <td> 1.680617e+00</td>\n",
        "      <td> 2.391276e+00</td>\n",
        "      <td> 8.470232e-01</td>\n",
        "      <td>   29985.000000</td>\n",
        "    </tr>\n",
        "    <tr>\n",
        "      <th>max</th>\n",
        "      <td>      20.371231</td>\n",
        "      <td>      15.080415</td>\n",
        "      <td>       0.873044</td>\n",
        "      <td>       0.875630</td>\n",
        "      <td>       0.771999</td>\n",
        "      <td>    1677.668247</td>\n",
        "      <td>      86.303972</td>\n",
        "      <td>    4574.418479</td>\n",
        "      <td>      11.602199</td>\n",
        "      <td>    5018.612105</td>\n",
        "      <td>  894168.304060</td>\n",
        "      <td>       6.312994</td>\n",
        "      <td> 6.560502e+08</td>\n",
        "      <td> 6.560502e+08</td>\n",
        "      <td> 1.000000e+00</td>\n",
        "      <td>   39999.000000</td>\n",
        "    </tr>\n",
        "  </tbody>\n",
        "</table>\n",
        "</div>"
       ],
       "metadata": {},
       "output_type": "pyout",
       "prompt_number": 58,
       "text": [
        "                  m_1             m_2             z_1             z_2  \\\n",
        "count  2000000.000000  2000000.000000  2000000.000000  2000000.000000   \n",
        "mean        13.544341        7.643611        0.868482        0.871013   \n",
        "std          1.560701        1.214730        0.001077        0.001159   \n",
        "min          8.145469        4.066025        0.863738        0.865856   \n",
        "25%         12.482147        6.809859        0.867756        0.870238   \n",
        "50%         13.489216        7.609140        0.868486        0.871032   \n",
        "75%         14.566045        8.421999        0.869213        0.871801   \n",
        "max         20.371231       15.080415        0.873044        0.875630   \n",
        "\n",
        "               d_proj       v_rad_obs           alpha        v_3d_obs  \\\n",
        "count  2000000.000000  2000000.000000  2000000.000000  2000000.000000   \n",
        "mean         0.744413      417.075586       39.257249     1022.301396   \n",
        "std          0.006960      234.776380       23.777233      882.151337   \n",
        "min          0.716201        0.000373        0.003021        0.001396   \n",
        "25%          0.739655      237.100742       18.047717      420.887761   \n",
        "50%          0.744391      406.782687       36.482946      733.904632   \n",
        "75%          0.749120      578.174376       59.336597     1326.245343   \n",
        "max          0.771999     1677.668247       86.303972     4574.418479   \n",
        "\n",
        "                 d_3d        v_3d_col           d_max           TSM_0  \\\n",
        "count  2000000.000000  2000000.000000  2000000.000000  2000000.000000   \n",
        "mean         1.434293     2974.944140        3.062645        0.803340   \n",
        "std          1.228709      635.364290      643.501621        0.847905   \n",
        "min          0.716535     1941.547069        0.710376        0.151217   \n",
        "25%          0.783417     2471.796269        1.000498        0.396336   \n",
        "50%          0.925968     2796.186676        1.239054        0.562707   \n",
        "75%          1.459907     3417.944450        1.921247        0.787958   \n",
        "max         11.602199     5018.612105   894168.304060        6.312994   \n",
        "\n",
        "              TSM_1             T          prob         indices  \n",
        "count  2.000000e+06  2.000000e+06  2.000000e+06  2000000.000000  \n",
        "mean   3.767725e+02  3.775758e+02  6.597375e-01    19999.776106  \n",
        "std    4.647935e+05  4.647935e+05  2.515106e-01    11542.792294  \n",
        "min    5.422394e-01  1.084479e+00  5.401711e-10        0.000000  \n",
        "25%    8.924978e-01  1.426266e+00  5.139578e-01    10007.000000  \n",
        "50%    1.115845e+00  1.655322e+00  7.155032e-01    20006.000000  \n",
        "75%    1.680617e+00  2.391276e+00  8.470232e-01    29985.000000  \n",
        "max    6.560502e+08  6.560502e+08  1.000000e+00    39999.000000  "
       ]
      }
     ],
     "prompt_number": 58
    },
    {
     "cell_type": "code",
     "collapsed": false,
     "input": [
      "np.sum(mask_TSM1)"
     ],
     "language": "python",
     "metadata": {},
     "outputs": [
      {
       "metadata": {},
       "output_type": "pyout",
       "prompt_number": 59,
       "text": [
        "1894309"
       ]
      }
     ],
     "prompt_number": 59
    },
    {
     "cell_type": "code",
     "collapsed": false,
     "input": [
      "data[masks[\"t\"]].shape[0]"
     ],
     "language": "python",
     "metadata": {},
     "outputs": [
      {
       "metadata": {},
       "output_type": "pyout",
       "prompt_number": 60,
       "text": [
        "1894309"
       ]
      }
     ],
     "prompt_number": 60
    },
    {
     "cell_type": "code",
     "collapsed": false,
     "input": [
      "res = summarize_CI_as_df(data[masks[\"t\"]], par[par != \"indices\"], histran=histran,\n",
      "                         N_bins=N_bins)\n",
      "m_res = summarize_CI_as_df(data[M], par[par != \"indices\"], histran=histran,\n",
      "                         N_bins=N_bins)"
     ],
     "language": "python",
     "metadata": {},
     "outputs": [
      {
       "output_type": "stream",
       "stream": "stdout",
       "text": [
        "Optimization terminated successfully.\n",
        "         Current function value: -1228906.153760\n",
        "         Iterations: 22\n",
        "         Function evaluations: 60\n",
        "Optimization terminated successfully."
       ]
      },
      {
       "output_type": "stream",
       "stream": "stdout",
       "text": [
        "\n",
        "         Current function value: -1505911.443709\n",
        "         Iterations: 19\n",
        "         Function evaluations: 52\n",
        "Optimization terminated successfully."
       ]
      },
      {
       "output_type": "stream",
       "stream": "stdout",
       "text": [
        "\n",
        "         Current function value: -1403889.408690\n",
        "         Iterations: 19\n",
        "         Function evaluations: 53\n",
        "Optimization terminated successfully."
       ]
      },
      {
       "output_type": "stream",
       "stream": "stdout",
       "text": [
        "\n",
        "         Current function value: -1358918.308560\n",
        "         Iterations: 20\n",
        "         Function evaluations: 56\n",
        "Optimization terminated successfully."
       ]
      },
      {
       "output_type": "stream",
       "stream": "stdout",
       "text": [
        "\n",
        "         Current function value: -1264458.863516\n",
        "         Iterations: 21\n",
        "         Function evaluations: 59\n",
        "Optimization terminated successfully."
       ]
      },
      {
       "output_type": "stream",
       "stream": "stdout",
       "text": [
        "\n",
        "         Current function value: -1037176.521495\n",
        "         Iterations: 25\n",
        "         Function evaluations: 67\n",
        "Optimization terminated successfully."
       ]
      },
      {
       "output_type": "stream",
       "stream": "stdout",
       "text": [
        "\n",
        "         Current function value: -89319.825978\n",
        "         Iterations: 20\n",
        "         Function evaluations: 55\n",
        "Optimization terminated successfully."
       ]
      },
      {
       "output_type": "stream",
       "stream": "stdout",
       "text": [
        "\n",
        "         Current function value: -894771.553824\n",
        "         Iterations: 26\n",
        "         Function evaluations: 68\n",
        "Optimization terminated successfully."
       ]
      },
      {
       "output_type": "stream",
       "stream": "stdout",
       "text": [
        "\n",
        "         Current function value: -3153999.362119\n",
        "         Iterations: 26\n",
        "         Function evaluations: 68\n",
        "Optimization terminated successfully."
       ]
      },
      {
       "output_type": "stream",
       "stream": "stdout",
       "text": [
        "\n",
        "         Current function value: -596903.823926\n",
        "         Iterations: 21\n",
        "         Function evaluations: 57\n",
        "Optimization terminated successfully."
       ]
      },
      {
       "output_type": "stream",
       "stream": "stdout",
       "text": [
        "\n",
        "         Current function value: -2120733.554560\n",
        "         Iterations: 21\n",
        "         Function evaluations: 58\n",
        "Optimization terminated successfully."
       ]
      },
      {
       "output_type": "stream",
       "stream": "stdout",
       "text": [
        "\n",
        "         Current function value: -2925235.075433\n",
        "         Iterations: 28\n",
        "         Function evaluations: 73\n",
        "Optimization terminated successfully."
       ]
      },
      {
       "output_type": "stream",
       "stream": "stdout",
       "text": [
        "\n",
        "         Current function value: -1927831.748122\n",
        "         Iterations: 24\n",
        "         Function evaluations: 62\n",
        "Optimization terminated successfully."
       ]
      },
      {
       "output_type": "stream",
       "stream": "stdout",
       "text": [
        "\n",
        "         Current function value: -3033748.245506\n",
        "         Iterations: 26\n",
        "         Function evaluations: 68\n",
        "Optimization terminated successfully."
       ]
      },
      {
       "output_type": "stream",
       "stream": "stdout",
       "text": [
        "\n",
        "         Current function value: -592662.022199\n",
        "         Iterations: 23\n",
        "         Function evaluations: 63\n",
        "Optimization terminated successfully."
       ]
      },
      {
       "output_type": "stream",
       "stream": "stdout",
       "text": [
        "\n",
        "         Current function value: -727022.469938\n",
        "         Iterations: 20\n",
        "         Function evaluations: 53\n",
        "Optimization terminated successfully."
       ]
      },
      {
       "output_type": "stream",
       "stream": "stdout",
       "text": [
        "\n",
        "         Current function value: -685059.644016\n",
        "         Iterations: 19\n",
        "         Function evaluations: 53\n",
        "Optimization terminated successfully."
       ]
      },
      {
       "output_type": "stream",
       "stream": "stdout",
       "text": [
        "\n",
        "         Current function value: -660708.644996\n",
        "         Iterations: 19\n",
        "         Function evaluations: 53\n",
        "Optimization terminated successfully."
       ]
      },
      {
       "output_type": "stream",
       "stream": "stdout",
       "text": [
        "\n",
        "         Current function value: -609267.150863\n",
        "         Iterations: 19\n",
        "         Function evaluations: 53\n",
        "Optimization terminated successfully."
       ]
      },
      {
       "output_type": "stream",
       "stream": "stdout",
       "text": [
        "\n",
        "         Current function value: -471311.397864\n",
        "         Iterations: 25\n",
        "         Function evaluations: 65\n",
        "Optimization terminated successfully."
       ]
      },
      {
       "output_type": "stream",
       "stream": "stdout",
       "text": [
        "\n",
        "         Current function value: -45692.985222\n",
        "         Iterations: 23\n",
        "         Function evaluations: 62\n",
        "Optimization terminated successfully."
       ]
      },
      {
       "output_type": "stream",
       "stream": "stdout",
       "text": [
        "\n",
        "         Current function value: -172690.920467\n",
        "         Iterations: 18\n",
        "         Function evaluations: 50\n",
        "Optimization terminated successfully."
       ]
      },
      {
       "output_type": "stream",
       "stream": "stdout",
       "text": [
        "\n",
        "         Current function value: -335192.766264\n",
        "         Iterations: 19\n",
        "         Function evaluations: 54\n",
        "Optimization terminated successfully."
       ]
      },
      {
       "output_type": "stream",
       "stream": "stdout",
       "text": [
        "\n",
        "         Current function value: -427667.461636\n",
        "         Iterations: 22\n",
        "         Function evaluations: 59\n",
        "Optimization terminated successfully."
       ]
      },
      {
       "output_type": "stream",
       "stream": "stdout",
       "text": [
        "\n",
        "         Current function value: -1009664.124030\n",
        "         Iterations: 19\n",
        "         Function evaluations: 53\n",
        "Optimization terminated successfully."
       ]
      },
      {
       "output_type": "stream",
       "stream": "stdout",
       "text": [
        "\n",
        "         Current function value: -1257116.265338\n",
        "         Iterations: 24\n",
        "         Function evaluations: 61\n",
        "Optimization terminated successfully."
       ]
      },
      {
       "output_type": "stream",
       "stream": "stdout",
       "text": [
        "\n",
        "         Current function value: -1007625.115156\n",
        "         Iterations: 21\n",
        "         Function evaluations: 57\n",
        "Optimization terminated successfully."
       ]
      },
      {
       "output_type": "stream",
       "stream": "stdout",
       "text": [
        "\n",
        "         Current function value: -1311247.933047\n",
        "         Iterations: 26\n",
        "         Function evaluations: 66\n"
       ]
      }
     ],
     "prompt_number": 61
    },
    {
     "cell_type": "code",
     "collapsed": false,
     "input": [
      "res"
     ],
     "language": "python",
     "metadata": {},
     "outputs": [
      {
       "html": [
        "<div style=\"max-height:1000px;max-width:1500px;overflow:auto;\">\n",
        "<table border=\"1\" class=\"dataframe\">\n",
        "  <thead>\n",
        "    <tr style=\"text-align: right;\">\n",
        "      <th></th>\n",
        "      <th>loc</th>\n",
        "      <th>CI68low</th>\n",
        "      <th>CI68up</th>\n",
        "      <th>CI95low</th>\n",
        "      <th>CI95up</th>\n",
        "    </tr>\n",
        "  </thead>\n",
        "  <tbody>\n",
        "    <tr>\n",
        "      <th>m_1</th>\n",
        "      <td>   13.514259</td>\n",
        "      <td>   12.036708</td>\n",
        "      <td>   15.106613</td>\n",
        "      <td>   10.528685</td>\n",
        "      <td>   16.830068</td>\n",
        "    </tr>\n",
        "    <tr>\n",
        "      <th>m_2</th>\n",
        "      <td>    7.615969</td>\n",
        "      <td>    6.431792</td>\n",
        "      <td>    8.836342</td>\n",
        "      <td>    5.320010</td>\n",
        "      <td>   10.206676</td>\n",
        "    </tr>\n",
        "    <tr>\n",
        "      <th>z_1</th>\n",
        "      <td>    0.868626</td>\n",
        "      <td>    0.867571</td>\n",
        "      <td>    0.869704</td>\n",
        "      <td>    0.866493</td>\n",
        "      <td>    0.870735</td>\n",
        "    </tr>\n",
        "    <tr>\n",
        "      <th>z_2</th>\n",
        "      <td>    0.870857</td>\n",
        "      <td>    0.869667</td>\n",
        "      <td>    0.871979</td>\n",
        "      <td>    0.868500</td>\n",
        "      <td>    0.873101</td>\n",
        "    </tr>\n",
        "    <tr>\n",
        "      <th>d_proj</th>\n",
        "      <td>    0.744407</td>\n",
        "      <td>    0.737391</td>\n",
        "      <td>    0.751341</td>\n",
        "      <td>    0.730616</td>\n",
        "      <td>    0.758382</td>\n",
        "    </tr>\n",
        "    <tr>\n",
        "      <th>v_rad_obs</th>\n",
        "      <td>  358.797994</td>\n",
        "      <td>  136.509197</td>\n",
        "      <td>  627.940962</td>\n",
        "      <td>   27.302138</td>\n",
        "      <td>  882.757433</td>\n",
        "    </tr>\n",
        "    <tr>\n",
        "      <th>alpha</th>\n",
        "      <td>   43.201417</td>\n",
        "      <td>   18.756847</td>\n",
        "      <td>   68.580444</td>\n",
        "      <td>    5.881086</td>\n",
        "      <td>   80.336574</td>\n",
        "    </tr>\n",
        "    <tr>\n",
        "      <th>v_3d_obs</th>\n",
        "      <td>  577.472599</td>\n",
        "      <td>  257.612413</td>\n",
        "      <td> 1248.424018</td>\n",
        "      <td>   59.450092</td>\n",
        "      <td> 2437.397944</td>\n",
        "    </tr>\n",
        "    <tr>\n",
        "      <th>d_3d</th>\n",
        "      <td>    1.020957</td>\n",
        "      <td>    0.787132</td>\n",
        "      <td>    2.060608</td>\n",
        "      <td>    0.747688</td>\n",
        "      <td>    4.320183</td>\n",
        "    </tr>\n",
        "    <tr>\n",
        "      <th>v_3d_col</th>\n",
        "      <td> 2769.570099</td>\n",
        "      <td> 2375.388990</td>\n",
        "      <td> 3736.461683</td>\n",
        "      <td> 2120.187860</td>\n",
        "      <td> 4195.823717</td>\n",
        "    </tr>\n",
        "    <tr>\n",
        "      <th>d_max</th>\n",
        "      <td>    1.168787</td>\n",
        "      <td>    0.904870</td>\n",
        "      <td>    2.197314</td>\n",
        "      <td>    0.766842</td>\n",
        "      <td>    4.568886</td>\n",
        "    </tr>\n",
        "    <tr>\n",
        "      <th>TSM_0</th>\n",
        "      <td>    0.607530</td>\n",
        "      <td>    0.403678</td>\n",
        "      <td>    0.951196</td>\n",
        "      <td>    0.255199</td>\n",
        "      <td>    2.445270</td>\n",
        "    </tr>\n",
        "    <tr>\n",
        "      <th>TSM_1</th>\n",
        "      <td>    1.000259</td>\n",
        "      <td>    0.769937</td>\n",
        "      <td>    1.690322</td>\n",
        "      <td>    0.628339</td>\n",
        "      <td>    4.433775</td>\n",
        "    </tr>\n",
        "    <tr>\n",
        "      <th>T</th>\n",
        "      <td>    1.561537</td>\n",
        "      <td>    1.305785</td>\n",
        "      <td>    2.363636</td>\n",
        "      <td>    1.206612</td>\n",
        "      <td>    6.396694</td>\n",
        "    </tr>\n",
        "  </tbody>\n",
        "</table>\n",
        "</div>"
       ],
       "metadata": {},
       "output_type": "pyout",
       "prompt_number": 62,
       "text": [
        "                   loc      CI68low       CI68up      CI95low       CI95up\n",
        "m_1          13.514259    12.036708    15.106613    10.528685    16.830068\n",
        "m_2           7.615969     6.431792     8.836342     5.320010    10.206676\n",
        "z_1           0.868626     0.867571     0.869704     0.866493     0.870735\n",
        "z_2           0.870857     0.869667     0.871979     0.868500     0.873101\n",
        "d_proj        0.744407     0.737391     0.751341     0.730616     0.758382\n",
        "v_rad_obs   358.797994   136.509197   627.940962    27.302138   882.757433\n",
        "alpha        43.201417    18.756847    68.580444     5.881086    80.336574\n",
        "v_3d_obs    577.472599   257.612413  1248.424018    59.450092  2437.397944\n",
        "d_3d          1.020957     0.787132     2.060608     0.747688     4.320183\n",
        "v_3d_col   2769.570099  2375.388990  3736.461683  2120.187860  4195.823717\n",
        "d_max         1.168787     0.904870     2.197314     0.766842     4.568886\n",
        "TSM_0         0.607530     0.403678     0.951196     0.255199     2.445270\n",
        "TSM_1         1.000259     0.769937     1.690322     0.628339     4.433775\n",
        "T             1.561537     1.305785     2.363636     1.206612     6.396694"
       ]
      }
     ],
     "prompt_number": 62
    },
    {
     "cell_type": "code",
     "collapsed": false,
     "input": [
      "m_res"
     ],
     "language": "python",
     "metadata": {},
     "outputs": [
      {
       "html": [
        "<div style=\"max-height:1000px;max-width:1500px;overflow:auto;\">\n",
        "<table border=\"1\" class=\"dataframe\">\n",
        "  <thead>\n",
        "    <tr style=\"text-align: right;\">\n",
        "      <th></th>\n",
        "      <th>loc</th>\n",
        "      <th>CI68low</th>\n",
        "      <th>CI68up</th>\n",
        "      <th>CI95low</th>\n",
        "      <th>CI95up</th>\n",
        "    </tr>\n",
        "  </thead>\n",
        "  <tbody>\n",
        "    <tr>\n",
        "      <th>m_1</th>\n",
        "      <td>   13.520189</td>\n",
        "      <td>   12.088752</td>\n",
        "      <td>   15.161029</td>\n",
        "      <td>   10.568450</td>\n",
        "      <td>   16.871369</td>\n",
        "    </tr>\n",
        "    <tr>\n",
        "      <th>m_2</th>\n",
        "      <td>    7.614716</td>\n",
        "      <td>    6.430610</td>\n",
        "      <td>    8.810450</td>\n",
        "      <td>    5.332222</td>\n",
        "      <td>   10.213946</td>\n",
        "    </tr>\n",
        "    <tr>\n",
        "      <th>z_1</th>\n",
        "      <td>    0.868771</td>\n",
        "      <td>    0.867716</td>\n",
        "      <td>    0.869847</td>\n",
        "      <td>    0.866635</td>\n",
        "      <td>    0.870838</td>\n",
        "    </tr>\n",
        "    <tr>\n",
        "      <th>z_2</th>\n",
        "      <td>    0.870682</td>\n",
        "      <td>    0.869533</td>\n",
        "      <td>    0.871802</td>\n",
        "      <td>    0.868413</td>\n",
        "      <td>    0.872922</td>\n",
        "    </tr>\n",
        "    <tr>\n",
        "      <th>d_proj</th>\n",
        "      <td>    0.744426</td>\n",
        "      <td>    0.737480</td>\n",
        "      <td>    0.751288</td>\n",
        "      <td>    0.730671</td>\n",
        "      <td>    0.758475</td>\n",
        "    </tr>\n",
        "    <tr>\n",
        "      <th>v_rad_obs</th>\n",
        "      <td>  310.681980</td>\n",
        "      <td>  108.145568</td>\n",
        "      <td>  590.639512</td>\n",
        "      <td>    8.319234</td>\n",
        "      <td>  840.205346</td>\n",
        "    </tr>\n",
        "    <tr>\n",
        "      <th>alpha</th>\n",
        "      <td>   20.788151</td>\n",
        "      <td>   10.445662</td>\n",
        "      <td>   30.202009</td>\n",
        "      <td>    3.107590</td>\n",
        "      <td>   34.153278</td>\n",
        "    </tr>\n",
        "    <tr>\n",
        "      <th>v_3d_obs</th>\n",
        "      <td>  940.706998</td>\n",
        "      <td>  360.079892</td>\n",
        "      <td> 1800.393875</td>\n",
        "      <td>   62.083895</td>\n",
        "      <td> 2868.212863</td>\n",
        "    </tr>\n",
        "    <tr>\n",
        "      <th>d_3d</th>\n",
        "      <td>    0.803373</td>\n",
        "      <td>    0.762055</td>\n",
        "      <td>    0.875104</td>\n",
        "      <td>    0.743912</td>\n",
        "      <td>    0.907205</td>\n",
        "    </tr>\n",
        "    <tr>\n",
        "      <th>v_3d_col</th>\n",
        "      <td> 2371.357173</td>\n",
        "      <td> 2182.296119</td>\n",
        "      <td> 2780.017898</td>\n",
        "      <td> 2066.072439</td>\n",
        "      <td> 3510.566739</td>\n",
        "    </tr>\n",
        "    <tr>\n",
        "      <th>d_max</th>\n",
        "      <td>    0.930966</td>\n",
        "      <td>    0.814224</td>\n",
        "      <td>    1.175436</td>\n",
        "      <td>    0.751012</td>\n",
        "      <td>    1.943011</td>\n",
        "    </tr>\n",
        "    <tr>\n",
        "      <th>TSM_0</th>\n",
        "      <td>    0.458799</td>\n",
        "      <td>    0.302722</td>\n",
        "      <td>    0.549384</td>\n",
        "      <td>    0.213026</td>\n",
        "      <td>    0.639079</td>\n",
        "    </tr>\n",
        "    <tr>\n",
        "      <th>TSM_1</th>\n",
        "      <td>    0.913393</td>\n",
        "      <td>    0.692977</td>\n",
        "      <td>    1.278793</td>\n",
        "      <td>    0.592960</td>\n",
        "      <td>    2.250391</td>\n",
        "    </tr>\n",
        "    <tr>\n",
        "      <th>T</th>\n",
        "      <td>    1.385622</td>\n",
        "      <td>    1.209440</td>\n",
        "      <td>    1.563422</td>\n",
        "      <td>    1.150442</td>\n",
        "      <td>    2.153392</td>\n",
        "    </tr>\n",
        "  </tbody>\n",
        "</table>\n",
        "</div>"
       ],
       "metadata": {},
       "output_type": "pyout",
       "prompt_number": 63,
       "text": [
        "                   loc      CI68low       CI68up      CI95low       CI95up\n",
        "m_1          13.520189    12.088752    15.161029    10.568450    16.871369\n",
        "m_2           7.614716     6.430610     8.810450     5.332222    10.213946\n",
        "z_1           0.868771     0.867716     0.869847     0.866635     0.870838\n",
        "z_2           0.870682     0.869533     0.871802     0.868413     0.872922\n",
        "d_proj        0.744426     0.737480     0.751288     0.730671     0.758475\n",
        "v_rad_obs   310.681980   108.145568   590.639512     8.319234   840.205346\n",
        "alpha        20.788151    10.445662    30.202009     3.107590    34.153278\n",
        "v_3d_obs    940.706998   360.079892  1800.393875    62.083895  2868.212863\n",
        "d_3d          0.803373     0.762055     0.875104     0.743912     0.907205\n",
        "v_3d_col   2371.357173  2182.296119  2780.017898  2066.072439  3510.566739\n",
        "d_max         0.930966     0.814224     1.175436     0.751012     1.943011\n",
        "TSM_0         0.458799     0.302722     0.549384     0.213026     0.639079\n",
        "TSM_1         0.913393     0.692977     1.278793     0.592960     2.250391\n",
        "T             1.385622     1.209440     1.563422     1.150442     2.153392"
       ]
      }
     ],
     "prompt_number": 63
    },
    {
     "cell_type": "heading",
     "level": 2,
     "metadata": {},
     "source": [
      "save result dataframe to hdf5 file"
     ]
    },
    {
     "cell_type": "code",
     "collapsed": false,
     "input": [
      "save_CI_df_to_h5(res, par[par != \"indices\"], prefix=short_prefix+ \"CI_not_masked\")\n",
      "save_CI_df_to_h5(m_res, par[par != \"indices\"], prefix=short_prefix + \"CI_masked\")"
     ],
     "language": "python",
     "metadata": {},
     "outputs": [],
     "prompt_number": 64
    },
    {
     "cell_type": "heading",
     "level": 1,
     "metadata": {},
     "source": [
      "save summary statistics to latex code after rounding them to appropriate number of digits"
     ]
    },
    {
     "cell_type": "heading",
     "level": 3,
     "metadata": {},
     "source": [
      "initialize a list of var for printing different numbers of sign fig "
     ]
    },
    {
     "cell_type": "code",
     "collapsed": false,
     "input": [
      "svar = {key: 2 for key in vel_var}\n",
      "var = {key: 2 for key in input_var + geo_var + time_var}\n",
      "var[\"z_1\"] = 5\n",
      "var[\"z_2\"] = 5"
     ],
     "language": "python",
     "metadata": {},
     "outputs": [],
     "prompt_number": 65
    },
    {
     "cell_type": "markdown",
     "metadata": {},
     "source": [
      "    texpath1 = !echo ${paper1}texfiles/\n",
      "    texpath1 = texpath1[0]\n",
      "    save_CI_df_to_tex(res, var, path=texpath1, prefix=short_prefix + \"CI_masked\",\n",
      "                  labels=texlabels, units=texUnits,svar=svar)"
     ]
    },
    {
     "cell_type": "code",
     "collapsed": false,
     "input": [
      "texpath = !echo ${paper1}\n",
      "texfile1 = texpath[0] + \"texFiles/output_table.tex\"\n",
      "texfile1"
     ],
     "language": "python",
     "metadata": {},
     "outputs": [
      {
       "metadata": {},
       "output_type": "pyout",
       "prompt_number": 66,
       "text": [
        "'/Users/karenyng/Documents/Research/papers/ElGo_paper/texFiles/output_table.tex'"
       ]
      }
     ],
     "prompt_number": 66
    },
    {
     "cell_type": "heading",
     "level": 1,
     "metadata": {},
     "source": [
      "write results to tex table"
     ]
    },
    {
     "cell_type": "code",
     "collapsed": false,
     "input": [
      "#save_CI_df_to_tex_table(res, m_res, texfile1)\n",
      "#!cat {texfile1}"
     ],
     "language": "python",
     "metadata": {},
     "outputs": [],
     "prompt_number": 67
    },
    {
     "cell_type": "heading",
     "level": 1,
     "metadata": {},
     "source": [
      "make the input vs input plot"
     ]
    },
    {
     "cell_type": "code",
     "collapsed": false,
     "input": [
      "Nvar_list = input_var"
     ],
     "language": "python",
     "metadata": {},
     "outputs": [],
     "prompt_number": 68
    },
    {
     "cell_type": "code",
     "collapsed": false,
     "input": [
      "axlims[\"dproj\"] = axlims[\"d_proj\"]\n",
      "axlims[\"mNW\"] = axlims[\"m_1\"]\n",
      "axlims[\"mSE\"] = axlims[\"m_2\"]\n",
      "axlims[\"zNW\"] = axlims[\"z_1\"]\n",
      "axlims[\"zSE\"] = axlims[\"z_2\"]\n",
      "axlabels[\"d_proj\"] = r\"$d_{proj}$ (Mpc)\"\n",
      "axlabels[\"m_1\"] = r\"$m_{NW} (10^{14} M_{\\odot})$\"\n",
      "axlabels[\"m_2\"] = r\"$m_{SE} (10^{14} M_{\\odot})$\"\n",
      "axlabels[\"z_1\"] = r\"$z_1$\"\n",
      "axlabels[\"z_2\"] = r\"$z_2$\"\n",
      "axlabels[\"mNW\"] = axlabels[\"m_1\"]\n",
      "axlabels[\"mSE\"] = axlabels[\"m_2\"]\n",
      "axlabels[\"zNW\"] = axlabels[\"z_1\"]\n",
      "axlabels[\"zSE\"] = axlabels[\"z_2\"]\n",
      "axlabels[\"dproj\"] = axlabels[\"d_proj\"]\n",
      "\n",
      "to_rot = {key: -90 for key in Nvar_list}"
     ],
     "language": "python",
     "metadata": {},
     "outputs": [],
     "prompt_number": 69
    },
    {
     "cell_type": "code",
     "collapsed": false,
     "input": [
      "texpath = !echo ${paper1}texfiles/graphics/\n",
      "texpath = texpath[0]"
     ],
     "language": "python",
     "metadata": {},
     "outputs": [],
     "prompt_number": 70
    },
    {
     "cell_type": "code",
     "collapsed": false,
     "input": [
      "N_by_M_lower_tri_plot(\n",
      "    data[M], inputDF, 0, Nvar_list, list(inputDF.columns),\n",
      "    xlabel_to_rot=to_rot, axlims=axlims, axlabels=axlabels, figsize=8,\n",
      "    save=True, path=texpath, prefix=short_prefix + \"inputsVsinput\")\n",
      "# need to add the xlabels and ylabels "
     ],
     "language": "python",
     "metadata": {},
     "outputs": []
    },
    {
     "cell_type": "heading",
     "level": 1,
     "metadata": {},
     "source": [
      "Make diagonal plots"
     ]
    },
    {
     "cell_type": "code",
     "collapsed": false,
     "input": [
      "for xkey in geo_var:\n",
      "    for ykey in geo_var:\n",
      "        Nbins_2D[(xkey, ykey)] = 50\n",
      "Nbins_2D[\"d_max\", \"alpha\"] = 100"
     ],
     "language": "python",
     "metadata": {},
     "outputs": []
    },
    {
     "cell_type": "code",
     "collapsed": false,
     "input": [
      "#reload(sys.modules[\"plotmod\"])\n",
      "#from plotmod import *\n",
      "var_list = geo_var\n",
      "to_rot = {key: xlabel_to_rot[key] for key in var_list}\n",
      "\n",
      "N_by_N_lower_triangle_plot(data[M], space, var_list, axlims=axlims,\n",
      "                           axlabels=axlabels, Nbins_2D=Nbins_2D,\n",
      "                           xlabel_to_rot=to_rot,\n",
      "                           histran=histran, fontsize=11, save=True, \n",
      "                           prefix=short_prefix + \"tri_geo\", path=texpath)"
     ],
     "language": "python",
     "metadata": {},
     "outputs": []
    },
    {
     "cell_type": "heading",
     "level": 1,
     "metadata": {},
     "source": [
      "tri plot of vel"
     ]
    },
    {
     "cell_type": "code",
     "collapsed": false,
     "input": [
      "for xkey in vel_var:\n",
      "    for ykey in vel_var:\n",
      "        Nbins_2D[(xkey, ykey)] = 50"
     ],
     "language": "python",
     "metadata": {},
     "outputs": []
    },
    {
     "cell_type": "code",
     "collapsed": false,
     "input": [
      "#reload(sys.modules[\"plotmod\"])\n",
      "#from plotmod import *\n",
      "var_list = vel_var \n",
      "to_rot = {key: xlabel_to_rot[key] for key in var_list}\n",
      "\n",
      "N_by_N_lower_triangle_plot(data[M], space, var_list, axlims=axlims,\n",
      "                           axlabels=axlabels, Nbins_2D=Nbins_2D,\n",
      "                           xlabel_to_rot=to_rot, \n",
      "                           histran=histran, fontsize=11, save=True, \n",
      "                           prefix=short_prefix + \"tri_vel\", path=texpath)"
     ],
     "language": "python",
     "metadata": {},
     "outputs": []
    },
    {
     "cell_type": "code",
     "collapsed": false,
     "input": [
      "Nbins_2D[(\"TSM_0\", \"T\")] = 80\n",
      "Nbins_2D[(\"TSM_0\", \"TSM_1\")] = 80"
     ],
     "language": "python",
     "metadata": {},
     "outputs": []
    },
    {
     "cell_type": "code",
     "collapsed": false,
     "input": [
      "N_bins[\"TSM_0\"] = 700"
     ],
     "language": "python",
     "metadata": {},
     "outputs": []
    },
    {
     "cell_type": "code",
     "collapsed": false,
     "input": [
      "#reload(sys.modules[\"plotmod\"])\n",
      "#from plotmod import *\n",
      "var_list = time_var \n",
      "to_rot = {key: xlabel_to_rot[key] for key in var_list}\n",
      "\n",
      "N_by_N_lower_triangle_plot(data[M], space, var_list, axlims=axlims,\n",
      "                           axlabels=axlabels, Nbins_2D=Nbins_2D,\n",
      "                           xlabel_to_rot=to_rot, N_bins=N_bins,\n",
      "                           histran=histran, fontsize=11, save=True, \n",
      "                           prefix=short_prefix + \"tri_time\", path=texpath)"
     ],
     "language": "python",
     "metadata": {},
     "outputs": []
    },
    {
     "cell_type": "heading",
     "level": 1,
     "metadata": {},
     "source": [
      "plot N by M plot of 2D contours"
     ]
    },
    {
     "cell_type": "code",
     "collapsed": false,
     "input": [
      "Nvar_list = [\"d_proj\", \"d_max\", \"alpha\"]\n",
      "Mvar_list = [\"T\", \"TSM_0\", \"TSM_1\"]\n",
      "space = 0 \n",
      "\n",
      "figsize = 8\n",
      "fontsize = 11"
     ],
     "language": "python",
     "metadata": {},
     "outputs": []
    },
    {
     "cell_type": "heading",
     "level": 1,
     "metadata": {},
     "source": [
      "time vs geom plots"
     ]
    },
    {
     "cell_type": "code",
     "collapsed": false,
     "input": [
      "#compare_keys = [key in Nbins_2D.keys() for key in nbin_keys]\n",
      "figsize = 6\n",
      "fontsize = 11"
     ],
     "language": "python",
     "metadata": {},
     "outputs": []
    },
    {
     "cell_type": "code",
     "collapsed": false,
     "input": [
      "axlims[\"d_max\"] = (0.72, 2.0)\n",
      "axlims[\"d_3d\"] = (0.7, 0.96)"
     ],
     "language": "python",
     "metadata": {},
     "outputs": []
    },
    {
     "cell_type": "code",
     "collapsed": false,
     "input": [
      "for xkey in geo_var:\n",
      "    for ykey in time_var:\n",
      "        if xkey != \"d_max\":\n",
      "            Nbins_2D[(xkey, ykey)] = 50 \n",
      "        else: \n",
      "            Nbins_2D[(xkey, ykey)] = 100"
     ],
     "language": "python",
     "metadata": {},
     "outputs": []
    },
    {
     "cell_type": "code",
     "collapsed": false,
     "input": [
      "#reload(sys.modules[\"plotmod\"])\n",
      "#from plotmod import *\n",
      "\n",
      "Nvar_list = geo_var\n",
      "Mvar_list = time_var\n",
      "#to_rot = {key: xlabel_to_rot[key] for key in Nvar_list}\n",
      "N_by_M_plot_contour(\n",
      "    data[M], Nvar_list, Mvar_list, space, axlims=axlims, Nbins_2D=Nbins_2D, \n",
      "    axlabels=axlabels, xlabel_to_rot=xlabel_to_rot, histran=histran, \n",
      "    figsize=figsize, fontsize=fontsize, save=True, prefix=short_prefix + \"timeVsgeo\",\n",
      "    path=texpath)"
     ],
     "language": "python",
     "metadata": {},
     "outputs": []
    },
    {
     "cell_type": "heading",
     "level": 1,
     "metadata": {},
     "source": [
      "Time vs input plots"
     ]
    },
    {
     "cell_type": "code",
     "collapsed": false,
     "input": [
      "for xkey in input_var:\n",
      "    for ykey in time_var:\n",
      "        Nbins_2D[(xkey, ykey)] = 50"
     ],
     "language": "python",
     "metadata": {},
     "outputs": []
    },
    {
     "cell_type": "code",
     "collapsed": false,
     "input": [
      "import sys\n",
      "import plotmod\n",
      "#reload(sys.modules[\"plotmod\"])\n",
      "#from plotmod import *\n",
      "figsize = 6\n",
      "fontsize = 11\n",
      "Nvar_list = input_var\n",
      "Mvar_list = time_var\n",
      "N_by_M_plot_contour(\n",
      "    data[M], Nvar_list, Mvar_list, space, axlims=axlims, Nbins_2D=Nbins_2D, \n",
      "    axlabels=axlabels, xlabel_to_rot=xlabel_to_rot, histran=histran, \n",
      "    figsize=figsize, fontsize=fontsize, save=True, \n",
      "    prefix=short_prefix + \"timeVSinput\", path=texpath)"
     ],
     "language": "python",
     "metadata": {},
     "outputs": []
    },
    {
     "cell_type": "heading",
     "level": 1,
     "metadata": {},
     "source": [
      "vel vs inputs plots "
     ]
    },
    {
     "cell_type": "code",
     "collapsed": false,
     "input": [
      "for xkey in input_var:\n",
      "    Nbins_2D[(xkey, \"v_3d_obs\")] = 40\n",
      "    Nbins_2D[(xkey, \"v_3d_col\")] = 40\n",
      "    Nbins_2D[(xkey, \"v_rad_obs\")] = 40"
     ],
     "language": "python",
     "metadata": {},
     "outputs": []
    },
    {
     "cell_type": "code",
     "collapsed": false,
     "input": [
      "figsize = 6\n",
      "fontsize = 11\n",
      "Nvar_list = input_var\n",
      "Mvar_list = vel_var\n",
      "N_by_M_plot_contour(\n",
      "    data[M], Nvar_list, Mvar_list, space, axlims=axlims, Nbins_2D=Nbins_2D, \n",
      "    axlabels=axlabels, xlabel_to_rot=xlabel_to_rot, histran=histran, \n",
      "    figsize=figsize, fontsize=fontsize, save=True, \n",
      "    prefix=short_prefix + \"velVSinputs\", path=texpath)"
     ],
     "language": "python",
     "metadata": {},
     "outputs": []
    },
    {
     "cell_type": "heading",
     "level": 1,
     "metadata": {},
     "source": [
      "geo vs inputs plots "
     ]
    },
    {
     "cell_type": "code",
     "collapsed": false,
     "input": [
      "for xkey in input_var:\n",
      "    for ykey in geo_var: \n",
      "        Nbins_2D[(xkey, ykey)] = 40"
     ],
     "language": "python",
     "metadata": {},
     "outputs": []
    },
    {
     "cell_type": "code",
     "collapsed": false,
     "input": [
      "figsize = 6\n",
      "fontsize = 11\n",
      "Nvar_list = input_var\n",
      "Mvar_list = geo_var\n",
      "N_by_M_plot_contour(\n",
      "    data[M], Nvar_list, Mvar_list, space, axlims=axlims, Nbins_2D=Nbins_2D, \n",
      "    axlabels=axlabels, xlabel_to_rot=xlabel_to_rot, histran=histran, \n",
      "    figsize=figsize, fontsize=fontsize, save=True, prefix=short_prefix+\"geoVSinputs\",\n",
      "    path=texpath)"
     ],
     "language": "python",
     "metadata": {},
     "outputs": []
    },
    {
     "cell_type": "heading",
     "level": 1,
     "metadata": {},
     "source": [
      "Vel vs time plot "
     ]
    },
    {
     "cell_type": "code",
     "collapsed": false,
     "input": [
      "figsize = 6\n",
      "fontsize = 11\n",
      "Nvar_list = time_var\n",
      "Mvar_list = vel_var\n",
      "for xkey in Nvar_list:\n",
      "    for ykey in Mvar_list: \n",
      "        Nbins_2D[(xkey, ykey)] = 100\n",
      "N_by_M_plot_contour(\n",
      "    data[M], Nvar_list, Mvar_list, space, axlims=axlims, Nbins_2D=Nbins_2D, \n",
      "    axlabels=axlabels, xlabel_to_rot=xlabel_to_rot, histran=histran, \n",
      "    figsize=figsize, fontsize=fontsize, save=True, prefix=short_prefix+\"velVStime\",\n",
      "    path=texpath)"
     ],
     "language": "python",
     "metadata": {},
     "outputs": []
    },
    {
     "cell_type": "heading",
     "level": 1,
     "metadata": {},
     "source": [
      "vel vs geo plot"
     ]
    },
    {
     "cell_type": "code",
     "collapsed": false,
     "input": [
      "figsize = 6\n",
      "fontsize = 11\n",
      "\n",
      "Mvar_list = vel_var\n",
      "Nvar_list = geo_var\n",
      "for xkey in Nvar_list:\n",
      "    for ykey in Mvar_list: \n",
      "        Nbins_2D[(xkey, ykey)] = 30\n",
      "\n",
      "for ykey in Mvar_list:\n",
      "    Nbins_2D[(\"d_max\", ykey)] = 100\n",
      "Nbins_2D[(\"d_max\", \"v_rad_obs\")] = 130\n",
      "N_by_M_plot_contour(\n",
      "    data[M], Nvar_list, Mvar_list, space, axlims=axlims, Nbins_2D=Nbins_2D, \n",
      "    axlabels=axlabels, xlabel_to_rot=xlabel_to_rot, histran=histran, \n",
      "    figsize=figsize, fontsize=fontsize, save=True, prefix=short_prefix+\"velVSgeo\",\n",
      "    path=texpath)"
     ],
     "language": "python",
     "metadata": {},
     "outputs": []
    },
    {
     "cell_type": "heading",
     "level": 1,
     "metadata": {},
     "source": [
      "Sanity check with the pandas scattermatrix function to see the shape \n",
      "of the contours"
     ]
    },
    {
     "cell_type": "code",
     "collapsed": false,
     "input": [
      "#pd.scatter_matrix(data[[\"T\", \"TSM_0\", \"TSM_1\", \"alpha\", \"d_max\", \"d_proj\"]][M], \n",
      "#                  alpha=.1, diagonal=\"kde\", \n",
      "#                  figsize=(8, 8))\n",
      "#print \"\""
     ],
     "language": "python",
     "metadata": {},
     "outputs": []
    }
   ],
   "metadata": {}
  }
 ]
}